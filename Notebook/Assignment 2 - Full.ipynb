{
 "cells": [
  {
   "cell_type": "markdown",
   "metadata": {
    "collapsed": true
   },
   "source": [
    "# Predictive Models\n",
    "# Cory Lowe\n",
    "# Assignment 2 - Full"
   ]
  },
  {
   "cell_type": "markdown",
   "metadata": {},
   "source": [
    "# Importing the Data"
   ]
  },
  {
   "cell_type": "markdown",
   "metadata": {},
   "source": [
    "# Assignment 2\n",
    "\n",
    "Task: \n",
    "\n",
    "1)\tPreprocess and EDA data as needed. Don’t just do EDA, discuss what it tell you about the data and how it informs you in different decisions you make about the below models. \n",
    "\n",
    "2)\tRun and tune at least the below methods. You will create several different tuning of each. Like KNN-3 AND KNN-5, using different distance measurements, Or SVM with kernels, cost functions and gammas, OR Random Forest with different \"trys\". Report your best tuned model for each. Don’t forget to CV. If you just did three tunings per model, you would be trying 36 different models on this dataset. That is probably a minimum. Grid search is your friend, but also your enemy if you ask it to search through too much. This is a great way to learn how to balance the two. "
   ]
  },
  {
   "cell_type": "code",
   "execution_count": 1,
   "metadata": {
    "collapsed": true
   },
   "outputs": [],
   "source": [
    "%pwd\n",
    "path = \"C:/Users/corylowe/OneDrive/Rockhurst/Predictive Models/Assignment 2 - Full\""
   ]
  },
  {
   "cell_type": "markdown",
   "metadata": {
    "collapsed": true
   },
   "source": [
    "# The Census Data Has Been Imported"
   ]
  },
  {
   "cell_type": "code",
   "execution_count": 2,
   "metadata": {},
   "outputs": [
    {
     "data": {
      "text/html": [
       "<div>\n",
       "<style>\n",
       "    .dataframe thead tr:only-child th {\n",
       "        text-align: right;\n",
       "    }\n",
       "\n",
       "    .dataframe thead th {\n",
       "        text-align: left;\n",
       "    }\n",
       "\n",
       "    .dataframe tbody tr th {\n",
       "        vertical-align: top;\n",
       "    }\n",
       "</style>\n",
       "<table border=\"1\" class=\"dataframe\">\n",
       "  <thead>\n",
       "    <tr style=\"text-align: right;\">\n",
       "      <th></th>\n",
       "      <th>income</th>\n",
       "      <th>age</th>\n",
       "      <th>workClass</th>\n",
       "      <th>fnlwgt</th>\n",
       "      <th>education</th>\n",
       "      <th>educationNum</th>\n",
       "      <th>maritalStatus</th>\n",
       "      <th>occupation</th>\n",
       "      <th>relationship</th>\n",
       "      <th>race</th>\n",
       "      <th>sex</th>\n",
       "      <th>capitalGain</th>\n",
       "      <th>capitalLoss</th>\n",
       "      <th>hoursPerWeek</th>\n",
       "      <th>nativeCountry</th>\n",
       "    </tr>\n",
       "  </thead>\n",
       "  <tbody>\n",
       "    <tr>\n",
       "      <th>0</th>\n",
       "      <td>&lt;=50K</td>\n",
       "      <td>39</td>\n",
       "      <td>State-gov</td>\n",
       "      <td>77516</td>\n",
       "      <td>Bachelors</td>\n",
       "      <td>13</td>\n",
       "      <td>Never-married</td>\n",
       "      <td>Adm-clerical</td>\n",
       "      <td>Not-in-family</td>\n",
       "      <td>White</td>\n",
       "      <td>Male</td>\n",
       "      <td>2174</td>\n",
       "      <td>0</td>\n",
       "      <td>40</td>\n",
       "      <td>United-States</td>\n",
       "    </tr>\n",
       "    <tr>\n",
       "      <th>1</th>\n",
       "      <td>&lt;=50K</td>\n",
       "      <td>50</td>\n",
       "      <td>Self-emp-not-inc</td>\n",
       "      <td>83311</td>\n",
       "      <td>Bachelors</td>\n",
       "      <td>13</td>\n",
       "      <td>Married-civ-spouse</td>\n",
       "      <td>Exec-managerial</td>\n",
       "      <td>Husband</td>\n",
       "      <td>White</td>\n",
       "      <td>Male</td>\n",
       "      <td>0</td>\n",
       "      <td>0</td>\n",
       "      <td>13</td>\n",
       "      <td>United-States</td>\n",
       "    </tr>\n",
       "    <tr>\n",
       "      <th>2</th>\n",
       "      <td>&lt;=50K</td>\n",
       "      <td>38</td>\n",
       "      <td>Private</td>\n",
       "      <td>215646</td>\n",
       "      <td>HS-grad</td>\n",
       "      <td>9</td>\n",
       "      <td>Divorced</td>\n",
       "      <td>Handlers-cleaners</td>\n",
       "      <td>Not-in-family</td>\n",
       "      <td>White</td>\n",
       "      <td>Male</td>\n",
       "      <td>0</td>\n",
       "      <td>0</td>\n",
       "      <td>40</td>\n",
       "      <td>United-States</td>\n",
       "    </tr>\n",
       "    <tr>\n",
       "      <th>3</th>\n",
       "      <td>&lt;=50K</td>\n",
       "      <td>53</td>\n",
       "      <td>Private</td>\n",
       "      <td>234721</td>\n",
       "      <td>11th</td>\n",
       "      <td>7</td>\n",
       "      <td>Married-civ-spouse</td>\n",
       "      <td>Handlers-cleaners</td>\n",
       "      <td>Husband</td>\n",
       "      <td>Black</td>\n",
       "      <td>Male</td>\n",
       "      <td>0</td>\n",
       "      <td>0</td>\n",
       "      <td>40</td>\n",
       "      <td>United-States</td>\n",
       "    </tr>\n",
       "    <tr>\n",
       "      <th>4</th>\n",
       "      <td>&lt;=50K</td>\n",
       "      <td>28</td>\n",
       "      <td>Private</td>\n",
       "      <td>338409</td>\n",
       "      <td>Bachelors</td>\n",
       "      <td>13</td>\n",
       "      <td>Married-civ-spouse</td>\n",
       "      <td>Prof-specialty</td>\n",
       "      <td>Wife</td>\n",
       "      <td>Black</td>\n",
       "      <td>Female</td>\n",
       "      <td>0</td>\n",
       "      <td>0</td>\n",
       "      <td>40</td>\n",
       "      <td>Cuba</td>\n",
       "    </tr>\n",
       "    <tr>\n",
       "      <th>5</th>\n",
       "      <td>&lt;=50K</td>\n",
       "      <td>37</td>\n",
       "      <td>Private</td>\n",
       "      <td>284582</td>\n",
       "      <td>Masters</td>\n",
       "      <td>14</td>\n",
       "      <td>Married-civ-spouse</td>\n",
       "      <td>Exec-managerial</td>\n",
       "      <td>Wife</td>\n",
       "      <td>White</td>\n",
       "      <td>Female</td>\n",
       "      <td>0</td>\n",
       "      <td>0</td>\n",
       "      <td>40</td>\n",
       "      <td>United-States</td>\n",
       "    </tr>\n",
       "    <tr>\n",
       "      <th>6</th>\n",
       "      <td>&lt;=50K</td>\n",
       "      <td>49</td>\n",
       "      <td>Private</td>\n",
       "      <td>160187</td>\n",
       "      <td>9th</td>\n",
       "      <td>5</td>\n",
       "      <td>Married-spouse-absent</td>\n",
       "      <td>Other-service</td>\n",
       "      <td>Not-in-family</td>\n",
       "      <td>Black</td>\n",
       "      <td>Female</td>\n",
       "      <td>0</td>\n",
       "      <td>0</td>\n",
       "      <td>16</td>\n",
       "      <td>Jamaica</td>\n",
       "    </tr>\n",
       "    <tr>\n",
       "      <th>7</th>\n",
       "      <td>&gt;50K</td>\n",
       "      <td>52</td>\n",
       "      <td>Self-emp-not-inc</td>\n",
       "      <td>209642</td>\n",
       "      <td>HS-grad</td>\n",
       "      <td>9</td>\n",
       "      <td>Married-civ-spouse</td>\n",
       "      <td>Exec-managerial</td>\n",
       "      <td>Husband</td>\n",
       "      <td>White</td>\n",
       "      <td>Male</td>\n",
       "      <td>0</td>\n",
       "      <td>0</td>\n",
       "      <td>45</td>\n",
       "      <td>United-States</td>\n",
       "    </tr>\n",
       "    <tr>\n",
       "      <th>8</th>\n",
       "      <td>&gt;50K</td>\n",
       "      <td>31</td>\n",
       "      <td>Private</td>\n",
       "      <td>45781</td>\n",
       "      <td>Masters</td>\n",
       "      <td>14</td>\n",
       "      <td>Never-married</td>\n",
       "      <td>Prof-specialty</td>\n",
       "      <td>Not-in-family</td>\n",
       "      <td>White</td>\n",
       "      <td>Female</td>\n",
       "      <td>14084</td>\n",
       "      <td>0</td>\n",
       "      <td>50</td>\n",
       "      <td>United-States</td>\n",
       "    </tr>\n",
       "    <tr>\n",
       "      <th>9</th>\n",
       "      <td>&gt;50K</td>\n",
       "      <td>42</td>\n",
       "      <td>Private</td>\n",
       "      <td>159449</td>\n",
       "      <td>Bachelors</td>\n",
       "      <td>13</td>\n",
       "      <td>Married-civ-spouse</td>\n",
       "      <td>Exec-managerial</td>\n",
       "      <td>Husband</td>\n",
       "      <td>White</td>\n",
       "      <td>Male</td>\n",
       "      <td>5178</td>\n",
       "      <td>0</td>\n",
       "      <td>40</td>\n",
       "      <td>United-States</td>\n",
       "    </tr>\n",
       "  </tbody>\n",
       "</table>\n",
       "</div>"
      ],
      "text/plain": [
       "   income  age          workClass  fnlwgt   education  educationNum  \\\n",
       "0   <=50K   39          State-gov   77516   Bachelors            13   \n",
       "1   <=50K   50   Self-emp-not-inc   83311   Bachelors            13   \n",
       "2   <=50K   38            Private  215646     HS-grad             9   \n",
       "3   <=50K   53            Private  234721        11th             7   \n",
       "4   <=50K   28            Private  338409   Bachelors            13   \n",
       "5   <=50K   37            Private  284582     Masters            14   \n",
       "6   <=50K   49            Private  160187         9th             5   \n",
       "7    >50K   52   Self-emp-not-inc  209642     HS-grad             9   \n",
       "8    >50K   31            Private   45781     Masters            14   \n",
       "9    >50K   42            Private  159449   Bachelors            13   \n",
       "\n",
       "            maritalStatus          occupation    relationship    race  \\\n",
       "0           Never-married        Adm-clerical   Not-in-family   White   \n",
       "1      Married-civ-spouse     Exec-managerial         Husband   White   \n",
       "2                Divorced   Handlers-cleaners   Not-in-family   White   \n",
       "3      Married-civ-spouse   Handlers-cleaners         Husband   Black   \n",
       "4      Married-civ-spouse      Prof-specialty            Wife   Black   \n",
       "5      Married-civ-spouse     Exec-managerial            Wife   White   \n",
       "6   Married-spouse-absent       Other-service   Not-in-family   Black   \n",
       "7      Married-civ-spouse     Exec-managerial         Husband   White   \n",
       "8           Never-married      Prof-specialty   Not-in-family   White   \n",
       "9      Married-civ-spouse     Exec-managerial         Husband   White   \n",
       "\n",
       "       sex  capitalGain  capitalLoss  hoursPerWeek   nativeCountry  \n",
       "0     Male         2174            0            40   United-States  \n",
       "1     Male            0            0            13   United-States  \n",
       "2     Male            0            0            40   United-States  \n",
       "3     Male            0            0            40   United-States  \n",
       "4   Female            0            0            40            Cuba  \n",
       "5   Female            0            0            40   United-States  \n",
       "6   Female            0            0            16         Jamaica  \n",
       "7     Male            0            0            45   United-States  \n",
       "8   Female        14084            0            50   United-States  \n",
       "9     Male         5178            0            40   United-States  "
      ]
     },
     "execution_count": 2,
     "metadata": {},
     "output_type": "execute_result"
    }
   ],
   "source": [
    "import pandas as pd\n",
    "import os\n",
    "os.chdir(path)\n",
    "\n",
    "Income=pd.read_csv(path + \"/data/Census Income.csv\", encoding = \"ISO-8859-1\")\n",
    "Income\n",
    "Income.shape\n",
    "Income.head(10)"
   ]
  },
  {
   "cell_type": "markdown",
   "metadata": {
    "collapsed": true
   },
   "source": [
    "#### Source: https://archive.ics.uci.edu/ml/datasets/Adult\n",
    "#### I copied the data into a CSV and moved the income (predictor variable) to the left hand side, which will make writing the code easier."
   ]
  },
  {
   "cell_type": "markdown",
   "metadata": {
    "collapsed": true
   },
   "source": [
    "# I Am Dropping the Weighting Variable"
   ]
  },
  {
   "cell_type": "code",
   "execution_count": 3,
   "metadata": {},
   "outputs": [
    {
     "data": {
      "text/html": [
       "<div>\n",
       "<style>\n",
       "    .dataframe thead tr:only-child th {\n",
       "        text-align: right;\n",
       "    }\n",
       "\n",
       "    .dataframe thead th {\n",
       "        text-align: left;\n",
       "    }\n",
       "\n",
       "    .dataframe tbody tr th {\n",
       "        vertical-align: top;\n",
       "    }\n",
       "</style>\n",
       "<table border=\"1\" class=\"dataframe\">\n",
       "  <thead>\n",
       "    <tr style=\"text-align: right;\">\n",
       "      <th></th>\n",
       "      <th>income</th>\n",
       "      <th>age</th>\n",
       "      <th>workClass</th>\n",
       "      <th>education</th>\n",
       "      <th>educationNum</th>\n",
       "      <th>maritalStatus</th>\n",
       "      <th>occupation</th>\n",
       "      <th>relationship</th>\n",
       "      <th>race</th>\n",
       "      <th>sex</th>\n",
       "      <th>capitalGain</th>\n",
       "      <th>capitalLoss</th>\n",
       "      <th>hoursPerWeek</th>\n",
       "      <th>nativeCountry</th>\n",
       "    </tr>\n",
       "  </thead>\n",
       "  <tbody>\n",
       "    <tr>\n",
       "      <th>0</th>\n",
       "      <td>&lt;=50K</td>\n",
       "      <td>39</td>\n",
       "      <td>State-gov</td>\n",
       "      <td>Bachelors</td>\n",
       "      <td>13</td>\n",
       "      <td>Never-married</td>\n",
       "      <td>Adm-clerical</td>\n",
       "      <td>Not-in-family</td>\n",
       "      <td>White</td>\n",
       "      <td>Male</td>\n",
       "      <td>2174</td>\n",
       "      <td>0</td>\n",
       "      <td>40</td>\n",
       "      <td>United-States</td>\n",
       "    </tr>\n",
       "    <tr>\n",
       "      <th>1</th>\n",
       "      <td>&lt;=50K</td>\n",
       "      <td>50</td>\n",
       "      <td>Self-emp-not-inc</td>\n",
       "      <td>Bachelors</td>\n",
       "      <td>13</td>\n",
       "      <td>Married-civ-spouse</td>\n",
       "      <td>Exec-managerial</td>\n",
       "      <td>Husband</td>\n",
       "      <td>White</td>\n",
       "      <td>Male</td>\n",
       "      <td>0</td>\n",
       "      <td>0</td>\n",
       "      <td>13</td>\n",
       "      <td>United-States</td>\n",
       "    </tr>\n",
       "    <tr>\n",
       "      <th>2</th>\n",
       "      <td>&lt;=50K</td>\n",
       "      <td>38</td>\n",
       "      <td>Private</td>\n",
       "      <td>HS-grad</td>\n",
       "      <td>9</td>\n",
       "      <td>Divorced</td>\n",
       "      <td>Handlers-cleaners</td>\n",
       "      <td>Not-in-family</td>\n",
       "      <td>White</td>\n",
       "      <td>Male</td>\n",
       "      <td>0</td>\n",
       "      <td>0</td>\n",
       "      <td>40</td>\n",
       "      <td>United-States</td>\n",
       "    </tr>\n",
       "    <tr>\n",
       "      <th>3</th>\n",
       "      <td>&lt;=50K</td>\n",
       "      <td>53</td>\n",
       "      <td>Private</td>\n",
       "      <td>11th</td>\n",
       "      <td>7</td>\n",
       "      <td>Married-civ-spouse</td>\n",
       "      <td>Handlers-cleaners</td>\n",
       "      <td>Husband</td>\n",
       "      <td>Black</td>\n",
       "      <td>Male</td>\n",
       "      <td>0</td>\n",
       "      <td>0</td>\n",
       "      <td>40</td>\n",
       "      <td>United-States</td>\n",
       "    </tr>\n",
       "    <tr>\n",
       "      <th>4</th>\n",
       "      <td>&lt;=50K</td>\n",
       "      <td>28</td>\n",
       "      <td>Private</td>\n",
       "      <td>Bachelors</td>\n",
       "      <td>13</td>\n",
       "      <td>Married-civ-spouse</td>\n",
       "      <td>Prof-specialty</td>\n",
       "      <td>Wife</td>\n",
       "      <td>Black</td>\n",
       "      <td>Female</td>\n",
       "      <td>0</td>\n",
       "      <td>0</td>\n",
       "      <td>40</td>\n",
       "      <td>Cuba</td>\n",
       "    </tr>\n",
       "    <tr>\n",
       "      <th>5</th>\n",
       "      <td>&lt;=50K</td>\n",
       "      <td>37</td>\n",
       "      <td>Private</td>\n",
       "      <td>Masters</td>\n",
       "      <td>14</td>\n",
       "      <td>Married-civ-spouse</td>\n",
       "      <td>Exec-managerial</td>\n",
       "      <td>Wife</td>\n",
       "      <td>White</td>\n",
       "      <td>Female</td>\n",
       "      <td>0</td>\n",
       "      <td>0</td>\n",
       "      <td>40</td>\n",
       "      <td>United-States</td>\n",
       "    </tr>\n",
       "    <tr>\n",
       "      <th>6</th>\n",
       "      <td>&lt;=50K</td>\n",
       "      <td>49</td>\n",
       "      <td>Private</td>\n",
       "      <td>9th</td>\n",
       "      <td>5</td>\n",
       "      <td>Married-spouse-absent</td>\n",
       "      <td>Other-service</td>\n",
       "      <td>Not-in-family</td>\n",
       "      <td>Black</td>\n",
       "      <td>Female</td>\n",
       "      <td>0</td>\n",
       "      <td>0</td>\n",
       "      <td>16</td>\n",
       "      <td>Jamaica</td>\n",
       "    </tr>\n",
       "    <tr>\n",
       "      <th>7</th>\n",
       "      <td>&gt;50K</td>\n",
       "      <td>52</td>\n",
       "      <td>Self-emp-not-inc</td>\n",
       "      <td>HS-grad</td>\n",
       "      <td>9</td>\n",
       "      <td>Married-civ-spouse</td>\n",
       "      <td>Exec-managerial</td>\n",
       "      <td>Husband</td>\n",
       "      <td>White</td>\n",
       "      <td>Male</td>\n",
       "      <td>0</td>\n",
       "      <td>0</td>\n",
       "      <td>45</td>\n",
       "      <td>United-States</td>\n",
       "    </tr>\n",
       "    <tr>\n",
       "      <th>8</th>\n",
       "      <td>&gt;50K</td>\n",
       "      <td>31</td>\n",
       "      <td>Private</td>\n",
       "      <td>Masters</td>\n",
       "      <td>14</td>\n",
       "      <td>Never-married</td>\n",
       "      <td>Prof-specialty</td>\n",
       "      <td>Not-in-family</td>\n",
       "      <td>White</td>\n",
       "      <td>Female</td>\n",
       "      <td>14084</td>\n",
       "      <td>0</td>\n",
       "      <td>50</td>\n",
       "      <td>United-States</td>\n",
       "    </tr>\n",
       "    <tr>\n",
       "      <th>9</th>\n",
       "      <td>&gt;50K</td>\n",
       "      <td>42</td>\n",
       "      <td>Private</td>\n",
       "      <td>Bachelors</td>\n",
       "      <td>13</td>\n",
       "      <td>Married-civ-spouse</td>\n",
       "      <td>Exec-managerial</td>\n",
       "      <td>Husband</td>\n",
       "      <td>White</td>\n",
       "      <td>Male</td>\n",
       "      <td>5178</td>\n",
       "      <td>0</td>\n",
       "      <td>40</td>\n",
       "      <td>United-States</td>\n",
       "    </tr>\n",
       "  </tbody>\n",
       "</table>\n",
       "</div>"
      ],
      "text/plain": [
       "   income  age          workClass   education  educationNum  \\\n",
       "0   <=50K   39          State-gov   Bachelors            13   \n",
       "1   <=50K   50   Self-emp-not-inc   Bachelors            13   \n",
       "2   <=50K   38            Private     HS-grad             9   \n",
       "3   <=50K   53            Private        11th             7   \n",
       "4   <=50K   28            Private   Bachelors            13   \n",
       "5   <=50K   37            Private     Masters            14   \n",
       "6   <=50K   49            Private         9th             5   \n",
       "7    >50K   52   Self-emp-not-inc     HS-grad             9   \n",
       "8    >50K   31            Private     Masters            14   \n",
       "9    >50K   42            Private   Bachelors            13   \n",
       "\n",
       "            maritalStatus          occupation    relationship    race  \\\n",
       "0           Never-married        Adm-clerical   Not-in-family   White   \n",
       "1      Married-civ-spouse     Exec-managerial         Husband   White   \n",
       "2                Divorced   Handlers-cleaners   Not-in-family   White   \n",
       "3      Married-civ-spouse   Handlers-cleaners         Husband   Black   \n",
       "4      Married-civ-spouse      Prof-specialty            Wife   Black   \n",
       "5      Married-civ-spouse     Exec-managerial            Wife   White   \n",
       "6   Married-spouse-absent       Other-service   Not-in-family   Black   \n",
       "7      Married-civ-spouse     Exec-managerial         Husband   White   \n",
       "8           Never-married      Prof-specialty   Not-in-family   White   \n",
       "9      Married-civ-spouse     Exec-managerial         Husband   White   \n",
       "\n",
       "       sex  capitalGain  capitalLoss  hoursPerWeek   nativeCountry  \n",
       "0     Male         2174            0            40   United-States  \n",
       "1     Male            0            0            13   United-States  \n",
       "2     Male            0            0            40   United-States  \n",
       "3     Male            0            0            40   United-States  \n",
       "4   Female            0            0            40            Cuba  \n",
       "5   Female            0            0            40   United-States  \n",
       "6   Female            0            0            16         Jamaica  \n",
       "7     Male            0            0            45   United-States  \n",
       "8   Female        14084            0            50   United-States  \n",
       "9     Male         5178            0            40   United-States  "
      ]
     },
     "execution_count": 3,
     "metadata": {},
     "output_type": "execute_result"
    }
   ],
   "source": [
    "del Income[\"fnlwgt\"]\n",
    "Income.head(10)"
   ]
  },
  {
   "cell_type": "markdown",
   "metadata": {},
   "source": [
    "#### The census bureau weights classes of individuals based on how well they are represented in the survey. I removed these weights as we might not have access to this data on future cases. I don't want to create a situation where the models can't be run becasuse independent variables are missing. In a real scenario, I would investiage to determine if we would have this data.\n",
    "#### Source: https://www.census.gov/programs-surveys/sipp/methodology/weighting.html"
   ]
  },
  {
   "cell_type": "markdown",
   "metadata": {
    "collapsed": true
   },
   "source": [
    "# I created excel pivot tables of each variable and found the following variables have missing values.\n",
    "-  Working Class\n",
    "-  Occupation\n",
    "-  Native Country\n",
    "\n",
    "#### Therefore, I am replacing these missing values with the most common value."
   ]
  },
  {
   "cell_type": "markdown",
   "metadata": {
    "collapsed": true
   },
   "source": [
    "# I Am Dropping the Education Variable"
   ]
  },
  {
   "cell_type": "code",
   "execution_count": 4,
   "metadata": {
    "collapsed": true
   },
   "outputs": [],
   "source": [
    "del Income[\"education\"]"
   ]
  },
  {
   "cell_type": "markdown",
   "metadata": {
    "collapsed": true
   },
   "source": [
    "#### The education and education number are 2 ways of measuring the same thing.\n",
    "#### Only one variable should be in the model to prevent multi-colinearity."
   ]
  },
  {
   "cell_type": "markdown",
   "metadata": {},
   "source": [
    "# Bar Plots showing N/A values"
   ]
  },
  {
   "cell_type": "markdown",
   "metadata": {},
   "source": [
    "#### Working class showing N/A values"
   ]
  },
  {
   "cell_type": "code",
   "execution_count": 5,
   "metadata": {},
   "outputs": [
    {
     "data": {
      "image/png": "[encoded data removed]",
      "text/plain": [
       "<matplotlib.figure.Figure at 0x1dba2b4e3c8>"
      ]
     },
     "metadata": {},
     "output_type": "display_data"
    }
   ],
   "source": [
    "import matplotlib.pyplot as plt\n",
    "\n",
    "groupby = Income.groupby(\"workClass\")\n",
    "groupByEDA=groupby[\"workClass\"].aggregate(len)\n",
    "plt.figure()\n",
    "groupByEDA.plot(kind='bar', grid=False)\n",
    "plt.axhline(0, color='k')\n",
    "plt.show()"
   ]
  },
  {
   "cell_type": "markdown",
   "metadata": {},
   "source": [
    "#### Occupation class showing N/A values"
   ]
  },
  {
   "cell_type": "code",
   "execution_count": 7,
   "metadata": {},
   "outputs": [
    {
     "data": {
      "image/png": "[encoded data removed]",
      "text/plain": [
       "<matplotlib.figure.Figure at 0x1dba0ce6278>"
      ]
     },
     "metadata": {},
     "output_type": "display_data"
    }
   ],
   "source": [
    "import matplotlib.pyplot as plt\n",
    "\n",
    "groupby = Income.groupby(\"occupation\")\n",
    "groupByEDA=groupby[\"occupation\"].aggregate(len)\n",
    "plt.figure()\n",
    "groupByEDA.plot(kind='bar', grid=False)\n",
    "plt.axhline(0, color='k')\n",
    "plt.show()"
   ]
  },
  {
   "cell_type": "markdown",
   "metadata": {},
   "source": [
    "####  Native country showing N/A values\n",
    "#### Hint - They are in alphabetical order"
   ]
  },
  {
   "cell_type": "code",
   "execution_count": 8,
   "metadata": {},
   "outputs": [
    {
     "data": {
      "image/png": "[encoded data removed]",
      "text/plain": [
       "<matplotlib.figure.Figure at 0x1dba0a21080>"
      ]
     },
     "metadata": {},
     "output_type": "display_data"
    }
   ],
   "source": [
    "import matplotlib.pyplot as plt\n",
    "\n",
    "groupby = Income.groupby(\"nativeCountry\")\n",
    "groupByEDA=groupby[\"nativeCountry\"].aggregate(len)\n",
    "plt.figure()\n",
    "groupByEDA.plot(kind='bar', grid=False)\n",
    "plt.axhline(0, color='k')\n",
    "plt.show()"
   ]
  },
  {
   "cell_type": "markdown",
   "metadata": {},
   "source": [
    "#### Replacing working class N/As with most popular category (private)"
   ]
  },
  {
   "cell_type": "code",
   "execution_count": 9,
   "metadata": {
    "collapsed": true
   },
   "outputs": [],
   "source": [
    "Income['workClass'] = Income['workClass'].str.replace('NA', 'Private')"
   ]
  },
  {
   "cell_type": "markdown",
   "metadata": {},
   "source": [
    " Bar Plot of Working Class With N/As Replaced"
   ]
  },
  {
   "cell_type": "code",
   "execution_count": 10,
   "metadata": {},
   "outputs": [
    {
     "data": {
      "image/png": "[encoded data removed]",
      "text/plain": [
       "<matplotlib.figure.Figure at 0x1dba2c42780>"
      ]
     },
     "metadata": {},
     "output_type": "display_data"
    }
   ],
   "source": [
    "\n",
    "import matplotlib.pyplot as plt\n",
    "\n",
    "groupby = Income.groupby(\"workClass\")\n",
    "groupByEDA=groupby[\"workClass\"].aggregate(len)\n",
    "plt.figure()\n",
    "groupByEDA.plot(kind='bar', grid=False)\n",
    "plt.axhline(0, color='k')\n",
    "plt.show()"
   ]
  },
  {
   "cell_type": "markdown",
   "metadata": {
    "collapsed": true
   },
   "source": [
    "#### Replacing professional N/As with most popular category (private)"
   ]
  },
  {
   "cell_type": "code",
   "execution_count": 11,
   "metadata": {
    "collapsed": true
   },
   "outputs": [],
   "source": [
    "Income['occupation'] = Income['occupation'].str.replace('NA', ' Prof-specialty')"
   ]
  },
  {
   "cell_type": "code",
   "execution_count": 12,
   "metadata": {},
   "outputs": [
    {
     "data": {
      "image/png": "[encoded data removed]",
      "text/plain": [
       "<matplotlib.figure.Figure at 0x1dba3328048>"
      ]
     },
     "metadata": {},
     "output_type": "display_data"
    }
   ],
   "source": [
    "import matplotlib.pyplot as plt\n",
    "\n",
    "groupby = Income.groupby(\"occupation\")\n",
    "groupByEDA=groupby[\"occupation\"].aggregate(len)\n",
    "plt.figure()\n",
    "groupByEDA.plot(kind='bar', grid=False)\n",
    "plt.axhline(0, color='k')\n",
    "plt.show()"
   ]
  },
  {
   "cell_type": "markdown",
   "metadata": {
    "collapsed": true
   },
   "source": [
    "#### Replacing country N/As with most popular category (United States)"
   ]
  },
  {
   "cell_type": "code",
   "execution_count": 13,
   "metadata": {
    "collapsed": true
   },
   "outputs": [],
   "source": [
    "Income['nativeCountry'] = Income['nativeCountry'].str.replace('NA', 'United-States')"
   ]
  },
  {
   "cell_type": "code",
   "execution_count": 14,
   "metadata": {
    "scrolled": true
   },
   "outputs": [
    {
     "data": {
      "image/png": "[encoded data removed]",
      "text/plain": [
       "<matplotlib.figure.Figure at 0x1dba33d6ef0>"
      ]
     },
     "metadata": {},
     "output_type": "display_data"
    }
   ],
   "source": [
    "import matplotlib.pyplot as plt\n",
    "\n",
    "groupby = Income.groupby(\"nativeCountry\")\n",
    "groupByEDA=groupby[\"nativeCountry\"].aggregate(len)\n",
    "plt.figure()\n",
    "groupByEDA.plot(kind='bar', grid=False)\n",
    "plt.axhline(0, color='k')\n",
    "plt.show()"
   ]
  },
  {
   "cell_type": "markdown",
   "metadata": {},
   "source": [
    "# Transforming Categorical Variables Into Dummy Variables"
   ]
  },
  {
   "cell_type": "code",
   "execution_count": 15,
   "metadata": {
    "collapsed": true
   },
   "outputs": [],
   "source": [
    "Name_Dummy=pd.DataFrame(pd.get_dummies(Income['workClass']))\n",
    "Name_Dummy.columns\n",
    "Income[' Federal-gov']=Name_Dummy[' Federal-gov']\n",
    "Income[' Local-gov']=Name_Dummy[' Local-gov']\n",
    "Income[' Never-worked']=Name_Dummy[' Never-worked']\n",
    "Income[' Private']=Name_Dummy[' Private']\n",
    "Income[' Self-emp-inc']=Name_Dummy[' Self-emp-inc']\n",
    "Income[' Self-emp-not-inc']=Name_Dummy[' Self-emp-not-inc']\n",
    "Income[' State-gov']=Name_Dummy[' State-gov']\n",
    "Income[' Without-pay']=Name_Dummy[' Without-pay']                                 "
   ]
  },
  {
   "cell_type": "code",
   "execution_count": 16,
   "metadata": {
    "collapsed": true
   },
   "outputs": [],
   "source": [
    "Name_Dummy=pd.DataFrame(pd.get_dummies(Income['maritalStatus']))\n",
    "Name_Dummy.columns\n",
    "Income[' Divorced']=Name_Dummy[' Divorced']\n",
    "Income[' Married-AF-spouse']=Name_Dummy[' Married-AF-spouse']\n",
    "Income[' Married-civ-spouse']=Name_Dummy[' Married-civ-spouse']\n",
    "Income[' Married-spouse-absent']=Name_Dummy[' Married-spouse-absent']\n",
    "Income[' Never-married']=Name_Dummy[' Never-married']\n",
    "Income[' Separated']=Name_Dummy[' Separated']\n",
    "Income[' Widowed']=Name_Dummy[' Widowed']"
   ]
  },
  {
   "cell_type": "code",
   "execution_count": 17,
   "metadata": {
    "collapsed": true
   },
   "outputs": [],
   "source": [
    "Name_Dummy=pd.DataFrame(pd.get_dummies(Income['occupation']))\n",
    "Name_Dummy.columns\n",
    "Income[' Exec-managerial']=Name_Dummy[' Exec-managerial']\n",
    "Income[' Farming-fishing']=Name_Dummy[' Farming-fishing']\n",
    "Income[' Handlers-cleaners']=Name_Dummy[' Handlers-cleaners']\n",
    "Income[' Machine-op-inspct']=Name_Dummy[' Machine-op-inspct']\n",
    "Income[' Other-service']=Name_Dummy[' Other-service']\n",
    "Income[' Prof-specialty']=Name_Dummy[' Prof-specialty']\n",
    "Income[' Protective-serv']=Name_Dummy[' Protective-serv']\n",
    "Income[' Sales']=Name_Dummy[' Sales']\n",
    "Income[' Tech-support']=Name_Dummy[' Tech-support']\n",
    "Income[' Transport-moving']=Name_Dummy[' Transport-moving']"
   ]
  },
  {
   "cell_type": "code",
   "execution_count": 18,
   "metadata": {
    "collapsed": true
   },
   "outputs": [],
   "source": [
    "Name_Dummy=pd.DataFrame(pd.get_dummies(Income['relationship']))\n",
    "Name_Dummy.columns\n",
    "Income[' Own-child']=Name_Dummy[' Own-child']\n",
    "Income[' Unmarried']=Name_Dummy[' Unmarried']\n",
    "Income[' Wife']=Name_Dummy[' Wife']"
   ]
  },
  {
   "cell_type": "code",
   "execution_count": 19,
   "metadata": {
    "collapsed": true
   },
   "outputs": [],
   "source": [
    "Name_Dummy=pd.DataFrame(pd.get_dummies(Income['race']))\n",
    "Name_Dummy.columns\n",
    "Income[' Other']=Name_Dummy[' Other']\n",
    "Income[' White']=Name_Dummy[' White']"
   ]
  },
  {
   "cell_type": "code",
   "execution_count": 20,
   "metadata": {
    "collapsed": true
   },
   "outputs": [],
   "source": [
    "Name_Dummy=pd.DataFrame(pd.get_dummies(Income['sex']))\n",
    "Name_Dummy.columns\n",
    "Income[' Female']=Name_Dummy[' Female']\n",
    "Income[' Male']=Name_Dummy[' Male']"
   ]
  },
  {
   "cell_type": "code",
   "execution_count": 21,
   "metadata": {
    "collapsed": true
   },
   "outputs": [],
   "source": [
    "Name_Dummy=pd.DataFrame(pd.get_dummies(Income['nativeCountry']))\n",
    "Name_Dummy.columns\n",
    "Income[' Cambodia']=Name_Dummy[' Cambodia']\n",
    "Income[' Canada']=Name_Dummy[' Canada']\n",
    "Income[' China']=Name_Dummy[' China']\n",
    "Income[' Columbia']=Name_Dummy[' Columbia']\n",
    "Income[' Cuba']=Name_Dummy[' Cuba']\n",
    "Income[' Dominican-Republic']=Name_Dummy[' Dominican-Republic']\n",
    "Income[' Ecuador']=Name_Dummy[' Ecuador']\n",
    "Income[' El-Salvador']=Name_Dummy[' El-Salvador']\n",
    "Income[' England']=Name_Dummy[' England']\n",
    "Income[' France']=Name_Dummy[' France']\n",
    "Income[' Germany']=Name_Dummy[' Germany']\n",
    "Income[' Greece']=Name_Dummy[' Greece']\n",
    "Income[' Guatemala']=Name_Dummy[' Guatemala']\n",
    "Income[' Haiti']=Name_Dummy[' Haiti']\n",
    "Income[' Holand-Netherlands']=Name_Dummy[' Holand-Netherlands']\n",
    "Income[' Honduras']=Name_Dummy[' Honduras']\n",
    "Income[' Hong']=Name_Dummy[' Hong']\n",
    "Income[' Hungary']=Name_Dummy[' Hungary']\n",
    "Income[' India']=Name_Dummy[' India']\n",
    "Income[' Iran']=Name_Dummy[' Iran']\n",
    "Income[' Ireland']=Name_Dummy[' Ireland']\n",
    "Income[' Italy']=Name_Dummy[' Italy']\n",
    "Income[' Jamaica']=Name_Dummy[' Jamaica']\n",
    "Income[' Japan']=Name_Dummy[' Japan']\n",
    "Income[' Laos']=Name_Dummy[' Laos']\n",
    "Income[' Mexico']=Name_Dummy[' Mexico']\n",
    "Income[' Nicaragua']=Name_Dummy[' Nicaragua']\n",
    "Income[' Outlying-US(Guam-USVI-etc)']=Name_Dummy[' Outlying-US(Guam-USVI-etc)']\n",
    "Income[' Peru']=Name_Dummy[' Peru']\n",
    "Income[' Philippines']=Name_Dummy[' Philippines']\n",
    "Income[' Poland']=Name_Dummy[' Poland']\n",
    "Income[' Portugal']=Name_Dummy[' Portugal']\n",
    "Income[' Puerto-Rico']=Name_Dummy[' Puerto-Rico']\n",
    "Income[' Scotland']=Name_Dummy[' Scotland']\n",
    "Income[' South']=Name_Dummy[' South']\n",
    "Income[' Taiwan']=Name_Dummy[' Taiwan']\n",
    "Income[' Thailand']=Name_Dummy[' Thailand']\n",
    "Income[' Trinadad&Tobago']=Name_Dummy[' Trinadad&Tobago']\n",
    "Income[' United-States']=Name_Dummy[' United-States']\n",
    "Income[' Vietnam']=Name_Dummy[' Vietnam']\n",
    "Income[' Yugoslavia']=Name_Dummy[' Yugoslavia']"
   ]
  },
  {
   "cell_type": "code",
   "execution_count": 22,
   "metadata": {
    "collapsed": true
   },
   "outputs": [],
   "source": [
    "del Income['workClass']\n",
    "del Income['maritalStatus']\n",
    "del Income['occupation']\n",
    "del Income['relationship']\n",
    "del Income['race']\n",
    "del Income['sex']\n",
    "del Income['nativeCountry']"
   ]
  },
  {
   "cell_type": "code",
   "execution_count": 23,
   "metadata": {},
   "outputs": [
    {
     "data": {
      "text/plain": [
       "Index(['income', 'age', 'educationNum', 'capitalGain', 'capitalLoss',\n",
       "       'hoursPerWeek', ' Federal-gov', ' Local-gov', ' Never-worked',\n",
       "       ' Private', ' Self-emp-inc', ' Self-emp-not-inc', ' State-gov',\n",
       "       ' Without-pay', ' Divorced', ' Married-AF-spouse',\n",
       "       ' Married-civ-spouse', ' Married-spouse-absent', ' Never-married',\n",
       "       ' Separated', ' Widowed', ' Exec-managerial', ' Farming-fishing',\n",
       "       ' Handlers-cleaners', ' Machine-op-inspct', ' Other-service',\n",
       "       ' Prof-specialty', ' Protective-serv', ' Sales', ' Tech-support',\n",
       "       ' Transport-moving', ' Own-child', ' Unmarried', ' Wife', ' Other',\n",
       "       ' White', ' Female', ' Male', ' Cambodia', ' Canada', ' China',\n",
       "       ' Columbia', ' Cuba', ' Dominican-Republic', ' Ecuador', ' El-Salvador',\n",
       "       ' England', ' France', ' Germany', ' Greece', ' Guatemala', ' Haiti',\n",
       "       ' Holand-Netherlands', ' Honduras', ' Hong', ' Hungary', ' India',\n",
       "       ' Iran', ' Ireland', ' Italy', ' Jamaica', ' Japan', ' Laos', ' Mexico',\n",
       "       ' Nicaragua', ' Outlying-US(Guam-USVI-etc)', ' Peru', ' Philippines',\n",
       "       ' Poland', ' Portugal', ' Puerto-Rico', ' Scotland', ' South',\n",
       "       ' Taiwan', ' Thailand', ' Trinadad&Tobago', ' United-States',\n",
       "       ' Vietnam', ' Yugoslavia'],\n",
       "      dtype='object')"
      ]
     },
     "execution_count": 23,
     "metadata": {},
     "output_type": "execute_result"
    }
   ],
   "source": [
    "Income.columns"
   ]
  },
  {
   "cell_type": "markdown",
   "metadata": {},
   "source": [
    "# Normalizing Numerical Variables"
   ]
  },
  {
   "cell_type": "code",
   "execution_count": 24,
   "metadata": {
    "collapsed": true
   },
   "outputs": [],
   "source": [
    "Income[\"age_z\"]=pd.DataFrame((Income[\"age\"]-Income[\"age\"].mean())/Income[\"age\"].std())\n",
    "Income[\"educationNum_z\"]=pd.DataFrame((Income[\"educationNum\"]-Income[\"educationNum\"].mean())/Income[\"educationNum\"].std())\n",
    "Income[\"capitalGain_z\"]=pd.DataFrame((Income[\"capitalGain\"]-Income[\"capitalGain\"].mean())/Income[\"capitalGain\"].std())\n",
    "Income[\"capitalLoss_z\"]=pd.DataFrame((Income[\"capitalLoss\"]-Income[\"capitalLoss\"].mean())/Income[\"capitalLoss\"].std())\n",
    "Income[\"hoursPerWeek_z\"]=pd.DataFrame((Income[\"hoursPerWeek\"]-Income[\"hoursPerWeek\"].mean())/Income[\"hoursPerWeek\"].std())"
   ]
  },
  {
   "cell_type": "code",
   "execution_count": 25,
   "metadata": {
    "collapsed": true
   },
   "outputs": [],
   "source": [
    "del Income[\"age\"]\n",
    "del Income[\"educationNum\"]\n",
    "del Income[\"capitalGain\"]\n",
    "del Income[\"capitalLoss\"]\n",
    "del Income[\"hoursPerWeek\"]"
   ]
  },
  {
   "cell_type": "markdown",
   "metadata": {},
   "source": [
    "#### This will prevent large outliers from having too much influence on the models"
   ]
  },
  {
   "cell_type": "markdown",
   "metadata": {
    "collapsed": true
   },
   "source": [
    "# Turn Prediction Variable Into Numerical Variable"
   ]
  },
  {
   "cell_type": "code",
   "execution_count": 26,
   "metadata": {
    "collapsed": true
   },
   "outputs": [],
   "source": [
    "\n",
    "from sklearn import preprocessing\n",
    "le_dep = preprocessing.LabelEncoder()\n",
    "#to convert into numbers\n",
    "Income['income'] = le_dep.fit_transform(Income['income'])"
   ]
  },
  {
   "cell_type": "code",
   "execution_count": 27,
   "metadata": {},
   "outputs": [
    {
     "data": {
      "text/html": [
       "<div>\n",
       "<style>\n",
       "    .dataframe thead tr:only-child th {\n",
       "        text-align: right;\n",
       "    }\n",
       "\n",
       "    .dataframe thead th {\n",
       "        text-align: left;\n",
       "    }\n",
       "\n",
       "    .dataframe tbody tr th {\n",
       "        vertical-align: top;\n",
       "    }\n",
       "</style>\n",
       "<table border=\"1\" class=\"dataframe\">\n",
       "  <thead>\n",
       "    <tr style=\"text-align: right;\">\n",
       "      <th></th>\n",
       "      <th>income</th>\n",
       "      <th>Federal-gov</th>\n",
       "      <th>Local-gov</th>\n",
       "      <th>Never-worked</th>\n",
       "      <th>Private</th>\n",
       "      <th>Self-emp-inc</th>\n",
       "      <th>Self-emp-not-inc</th>\n",
       "      <th>State-gov</th>\n",
       "      <th>Without-pay</th>\n",
       "      <th>Divorced</th>\n",
       "      <th>...</th>\n",
       "      <th>Thailand</th>\n",
       "      <th>Trinadad&amp;Tobago</th>\n",
       "      <th>United-States</th>\n",
       "      <th>Vietnam</th>\n",
       "      <th>Yugoslavia</th>\n",
       "      <th>age_z</th>\n",
       "      <th>educationNum_z</th>\n",
       "      <th>capitalGain_z</th>\n",
       "      <th>capitalLoss_z</th>\n",
       "      <th>hoursPerWeek_z</th>\n",
       "    </tr>\n",
       "  </thead>\n",
       "  <tbody>\n",
       "    <tr>\n",
       "      <th>0</th>\n",
       "      <td>0</td>\n",
       "      <td>0</td>\n",
       "      <td>0</td>\n",
       "      <td>0</td>\n",
       "      <td>0</td>\n",
       "      <td>0</td>\n",
       "      <td>0</td>\n",
       "      <td>1</td>\n",
       "      <td>0</td>\n",
       "      <td>0</td>\n",
       "      <td>...</td>\n",
       "      <td>0</td>\n",
       "      <td>0</td>\n",
       "      <td>1</td>\n",
       "      <td>0</td>\n",
       "      <td>0</td>\n",
       "      <td>0.030670</td>\n",
       "      <td>1.134721</td>\n",
       "      <td>0.148451</td>\n",
       "      <td>-0.216656</td>\n",
       "      <td>-0.035429</td>\n",
       "    </tr>\n",
       "    <tr>\n",
       "      <th>1</th>\n",
       "      <td>0</td>\n",
       "      <td>0</td>\n",
       "      <td>0</td>\n",
       "      <td>0</td>\n",
       "      <td>0</td>\n",
       "      <td>0</td>\n",
       "      <td>1</td>\n",
       "      <td>0</td>\n",
       "      <td>0</td>\n",
       "      <td>0</td>\n",
       "      <td>...</td>\n",
       "      <td>0</td>\n",
       "      <td>0</td>\n",
       "      <td>1</td>\n",
       "      <td>0</td>\n",
       "      <td>0</td>\n",
       "      <td>0.837096</td>\n",
       "      <td>1.134721</td>\n",
       "      <td>-0.145918</td>\n",
       "      <td>-0.216656</td>\n",
       "      <td>-2.222119</td>\n",
       "    </tr>\n",
       "    <tr>\n",
       "      <th>2</th>\n",
       "      <td>0</td>\n",
       "      <td>0</td>\n",
       "      <td>0</td>\n",
       "      <td>0</td>\n",
       "      <td>1</td>\n",
       "      <td>0</td>\n",
       "      <td>0</td>\n",
       "      <td>0</td>\n",
       "      <td>0</td>\n",
       "      <td>1</td>\n",
       "      <td>...</td>\n",
       "      <td>0</td>\n",
       "      <td>0</td>\n",
       "      <td>1</td>\n",
       "      <td>0</td>\n",
       "      <td>0</td>\n",
       "      <td>-0.042641</td>\n",
       "      <td>-0.420053</td>\n",
       "      <td>-0.145918</td>\n",
       "      <td>-0.216656</td>\n",
       "      <td>-0.035429</td>\n",
       "    </tr>\n",
       "    <tr>\n",
       "      <th>3</th>\n",
       "      <td>0</td>\n",
       "      <td>0</td>\n",
       "      <td>0</td>\n",
       "      <td>0</td>\n",
       "      <td>1</td>\n",
       "      <td>0</td>\n",
       "      <td>0</td>\n",
       "      <td>0</td>\n",
       "      <td>0</td>\n",
       "      <td>0</td>\n",
       "      <td>...</td>\n",
       "      <td>0</td>\n",
       "      <td>0</td>\n",
       "      <td>1</td>\n",
       "      <td>0</td>\n",
       "      <td>0</td>\n",
       "      <td>1.057031</td>\n",
       "      <td>-1.197440</td>\n",
       "      <td>-0.145918</td>\n",
       "      <td>-0.216656</td>\n",
       "      <td>-0.035429</td>\n",
       "    </tr>\n",
       "    <tr>\n",
       "      <th>4</th>\n",
       "      <td>0</td>\n",
       "      <td>0</td>\n",
       "      <td>0</td>\n",
       "      <td>0</td>\n",
       "      <td>1</td>\n",
       "      <td>0</td>\n",
       "      <td>0</td>\n",
       "      <td>0</td>\n",
       "      <td>0</td>\n",
       "      <td>0</td>\n",
       "      <td>...</td>\n",
       "      <td>0</td>\n",
       "      <td>0</td>\n",
       "      <td>0</td>\n",
       "      <td>0</td>\n",
       "      <td>0</td>\n",
       "      <td>-0.775756</td>\n",
       "      <td>1.134721</td>\n",
       "      <td>-0.145918</td>\n",
       "      <td>-0.216656</td>\n",
       "      <td>-0.035429</td>\n",
       "    </tr>\n",
       "    <tr>\n",
       "      <th>5</th>\n",
       "      <td>0</td>\n",
       "      <td>0</td>\n",
       "      <td>0</td>\n",
       "      <td>0</td>\n",
       "      <td>1</td>\n",
       "      <td>0</td>\n",
       "      <td>0</td>\n",
       "      <td>0</td>\n",
       "      <td>0</td>\n",
       "      <td>0</td>\n",
       "      <td>...</td>\n",
       "      <td>0</td>\n",
       "      <td>0</td>\n",
       "      <td>1</td>\n",
       "      <td>0</td>\n",
       "      <td>0</td>\n",
       "      <td>-0.115953</td>\n",
       "      <td>1.523415</td>\n",
       "      <td>-0.145918</td>\n",
       "      <td>-0.216656</td>\n",
       "      <td>-0.035429</td>\n",
       "    </tr>\n",
       "    <tr>\n",
       "      <th>6</th>\n",
       "      <td>0</td>\n",
       "      <td>0</td>\n",
       "      <td>0</td>\n",
       "      <td>0</td>\n",
       "      <td>1</td>\n",
       "      <td>0</td>\n",
       "      <td>0</td>\n",
       "      <td>0</td>\n",
       "      <td>0</td>\n",
       "      <td>0</td>\n",
       "      <td>...</td>\n",
       "      <td>0</td>\n",
       "      <td>0</td>\n",
       "      <td>0</td>\n",
       "      <td>0</td>\n",
       "      <td>0</td>\n",
       "      <td>0.763785</td>\n",
       "      <td>-1.974828</td>\n",
       "      <td>-0.145918</td>\n",
       "      <td>-0.216656</td>\n",
       "      <td>-1.979153</td>\n",
       "    </tr>\n",
       "    <tr>\n",
       "      <th>7</th>\n",
       "      <td>1</td>\n",
       "      <td>0</td>\n",
       "      <td>0</td>\n",
       "      <td>0</td>\n",
       "      <td>0</td>\n",
       "      <td>0</td>\n",
       "      <td>1</td>\n",
       "      <td>0</td>\n",
       "      <td>0</td>\n",
       "      <td>0</td>\n",
       "      <td>...</td>\n",
       "      <td>0</td>\n",
       "      <td>0</td>\n",
       "      <td>1</td>\n",
       "      <td>0</td>\n",
       "      <td>0</td>\n",
       "      <td>0.983719</td>\n",
       "      <td>-0.420053</td>\n",
       "      <td>-0.145918</td>\n",
       "      <td>-0.216656</td>\n",
       "      <td>0.369514</td>\n",
       "    </tr>\n",
       "    <tr>\n",
       "      <th>8</th>\n",
       "      <td>1</td>\n",
       "      <td>0</td>\n",
       "      <td>0</td>\n",
       "      <td>0</td>\n",
       "      <td>1</td>\n",
       "      <td>0</td>\n",
       "      <td>0</td>\n",
       "      <td>0</td>\n",
       "      <td>0</td>\n",
       "      <td>0</td>\n",
       "      <td>...</td>\n",
       "      <td>0</td>\n",
       "      <td>0</td>\n",
       "      <td>1</td>\n",
       "      <td>0</td>\n",
       "      <td>0</td>\n",
       "      <td>-0.555822</td>\n",
       "      <td>1.523415</td>\n",
       "      <td>1.761115</td>\n",
       "      <td>-0.216656</td>\n",
       "      <td>0.774456</td>\n",
       "    </tr>\n",
       "    <tr>\n",
       "      <th>9</th>\n",
       "      <td>1</td>\n",
       "      <td>0</td>\n",
       "      <td>0</td>\n",
       "      <td>0</td>\n",
       "      <td>1</td>\n",
       "      <td>0</td>\n",
       "      <td>0</td>\n",
       "      <td>0</td>\n",
       "      <td>0</td>\n",
       "      <td>0</td>\n",
       "      <td>...</td>\n",
       "      <td>0</td>\n",
       "      <td>0</td>\n",
       "      <td>1</td>\n",
       "      <td>0</td>\n",
       "      <td>0</td>\n",
       "      <td>0.250604</td>\n",
       "      <td>1.134721</td>\n",
       "      <td>0.555205</td>\n",
       "      <td>-0.216656</td>\n",
       "      <td>-0.035429</td>\n",
       "    </tr>\n",
       "  </tbody>\n",
       "</table>\n",
       "<p>10 rows × 79 columns</p>\n",
       "</div>"
      ],
      "text/plain": [
       "   income   Federal-gov   Local-gov   Never-worked   Private   Self-emp-inc  \\\n",
       "0       0             0           0              0         0              0   \n",
       "1       0             0           0              0         0              0   \n",
       "2       0             0           0              0         1              0   \n",
       "3       0             0           0              0         1              0   \n",
       "4       0             0           0              0         1              0   \n",
       "5       0             0           0              0         1              0   \n",
       "6       0             0           0              0         1              0   \n",
       "7       1             0           0              0         0              0   \n",
       "8       1             0           0              0         1              0   \n",
       "9       1             0           0              0         1              0   \n",
       "\n",
       "    Self-emp-not-inc   State-gov   Without-pay   Divorced       ...        \\\n",
       "0                  0           1             0          0       ...         \n",
       "1                  1           0             0          0       ...         \n",
       "2                  0           0             0          1       ...         \n",
       "3                  0           0             0          0       ...         \n",
       "4                  0           0             0          0       ...         \n",
       "5                  0           0             0          0       ...         \n",
       "6                  0           0             0          0       ...         \n",
       "7                  1           0             0          0       ...         \n",
       "8                  0           0             0          0       ...         \n",
       "9                  0           0             0          0       ...         \n",
       "\n",
       "    Thailand   Trinadad&Tobago   United-States   Vietnam   Yugoslavia  \\\n",
       "0          0                 0               1         0            0   \n",
       "1          0                 0               1         0            0   \n",
       "2          0                 0               1         0            0   \n",
       "3          0                 0               1         0            0   \n",
       "4          0                 0               0         0            0   \n",
       "5          0                 0               1         0            0   \n",
       "6          0                 0               0         0            0   \n",
       "7          0                 0               1         0            0   \n",
       "8          0                 0               1         0            0   \n",
       "9          0                 0               1         0            0   \n",
       "\n",
       "      age_z  educationNum_z  capitalGain_z  capitalLoss_z  hoursPerWeek_z  \n",
       "0  0.030670        1.134721       0.148451      -0.216656       -0.035429  \n",
       "1  0.837096        1.134721      -0.145918      -0.216656       -2.222119  \n",
       "2 -0.042641       -0.420053      -0.145918      -0.216656       -0.035429  \n",
       "3  1.057031       -1.197440      -0.145918      -0.216656       -0.035429  \n",
       "4 -0.775756        1.134721      -0.145918      -0.216656       -0.035429  \n",
       "5 -0.115953        1.523415      -0.145918      -0.216656       -0.035429  \n",
       "6  0.763785       -1.974828      -0.145918      -0.216656       -1.979153  \n",
       "7  0.983719       -0.420053      -0.145918      -0.216656        0.369514  \n",
       "8 -0.555822        1.523415       1.761115      -0.216656        0.774456  \n",
       "9  0.250604        1.134721       0.555205      -0.216656       -0.035429  \n",
       "\n",
       "[10 rows x 79 columns]"
      ]
     },
     "execution_count": 27,
     "metadata": {},
     "output_type": "execute_result"
    }
   ],
   "source": [
    "Income.head(10)"
   ]
  },
  {
   "cell_type": "markdown",
   "metadata": {},
   "source": [
    "# Create Test Train Split"
   ]
  },
  {
   "cell_type": "code",
   "execution_count": 28,
   "metadata": {},
   "outputs": [
    {
     "name": "stdout",
     "output_type": "stream",
     "text": [
      "(9769, 78)\n",
      "(22792, 78)\n",
      "(9769,)\n",
      "(22792,)\n"
     ]
    }
   ],
   "source": [
    "from sklearn.model_selection import train_test_split\n",
    "\n",
    "features_train, features_test, target_train, target_test = train_test_split(\n",
    "    Income.iloc[:,1:].values, Income.iloc[:,0].values, test_size=0.30, random_state=0)\n",
    "\n",
    "print(features_test.shape)\n",
    "print(features_train.shape)\n",
    "print(target_test.shape)\n",
    "print(target_train.shape)\n",
    "\n",
    "##The training and test sets are created. Now it's time to run the algorithms."
   ]
  },
  {
   "cell_type": "markdown",
   "metadata": {},
   "source": [
    "# Model Selection Criteria"
   ]
  },
  {
   "cell_type": "markdown",
   "metadata": {},
   "source": [
    "## Confusion Matrix Entries\n",
    "#### True positives - Accuratly predicting income > 50K.\n",
    "#### True negatives - Accuratly predicting income <= 50K.\n",
    "#### False positives - Incorrectly predicting income > 50K, when it is <= 50K.\n",
    "#### False negatives - Incorrectly predicting income <= 50K, when it is > 50K.\n",
    "\n",
    "## Residual Measures\n",
    "#### Accuracy - Overall how good the model is at predicting both income > 50K and income <= 50K.\n",
    "#### Precision - When predicting income > 50K, how often this true.\n",
    "#### Recall - Of all the observations where income > 50K, how often income > 50K is predicted.\n",
    "#### Specificity - When predicting income <= 50K, how often this true.\n",
    "\n",
    "#### Hint: In the writeup, \"precision\" = \"Targetting Rate\" and \"recall\" = \"Prospect Identification Rate,\" as these terms are easier to understand in a marketing context.\n",
    "\n",
    "## Presumptions: \n",
    "#### 1) Predicting whether an individual's income > 50K is used for marketing purposes. Individuals with income > 50K have a high propensity to become customers and individuals with income <= 50K can't afford the products/services.\n",
    "#### 2) Acquiring customers' information has a cost (i.e. it costs money to purchase mailing lists, etc.)\n",
    "#### 3) Targeting customers whose income <= 50K will result in a negative Return On Investment (ROI.)\n",
    "\n",
    "#### These presumptions would be verified in a real-world example.\n",
    "\n",
    "## Based on the presumptions above: \n",
    "#### 1) Models will be selected based on precision and sensitivity.\n",
    "#### 2) Precision is the most important measure. When spending money on an advertising campaign, it's important that it's reaching the target market (i.e. income > 50K)\n",
    "#### 3) Recall is the second most important measure. Throwing away good prospect is wasting money. However, it's better to have a slightly higher precision and slightly lower sensitivity. This is a balancing act.\n",
    "\n",
    "## Precision measured against 24.081%\n",
    "#### 24.081% of the population have income > 50K. Therefore, this precision can be achieved without an algorithm. A significant increase over 24.081% represents the lift, and the value that this analysis brings to a marketing organization. The value can be further quantified by factoring in how much revenue each percent increase of precision brings.\n",
    "\n",
    "#### Source: http://scaryscientist.blogspot.com/2016/03/confusion-matrix.html"
   ]
  },
  {
   "cell_type": "markdown",
   "metadata": {},
   "source": [
    "# Decision Tree"
   ]
  },
  {
   "cell_type": "code",
   "execution_count": 30,
   "metadata": {},
   "outputs": [
    {
     "name": "stdout",
     "output_type": "stream",
     "text": [
      "DecisionTreeClassifier(class_weight=None, criterion='gini', max_depth=None,\n",
      "            max_features=None, max_leaf_nodes=None,\n",
      "            min_impurity_split=1e-07, min_samples_leaf=1,\n",
      "            min_samples_split=2, min_weight_fraction_leaf=0.0,\n",
      "            presort=False, random_state=None, splitter='best')\n"
     ]
    }
   ],
   "source": [
    "from sklearn import tree \n",
    "clf_dt = tree.DecisionTreeClassifier()\n",
    "#Call up the model to see the parameters you can tune (and their default setting)\n",
    "print(clf_dt)\n",
    "#Fit clf to the training data\n",
    "clf_dt = clf_dt.fit(features_train, target_train)\n",
    "#Predict clf DT model again test data\n",
    "target_predicted_dt = clf_dt.predict(features_test)"
   ]
  },
  {
   "cell_type": "code",
   "execution_count": 31,
   "metadata": {},
   "outputs": [
    {
     "name": "stdout",
     "output_type": "stream",
     "text": [
      "DT Accuracy Score 0.816153137476\n",
      "             precision    recall  f1-score   support\n",
      "\n",
      "          0       0.88      0.88      0.88      7407\n",
      "          1       0.62      0.61      0.61      2362\n",
      "\n",
      "avg / total       0.81      0.82      0.82      9769\n",
      "\n",
      "[[6539  868]\n",
      " [ 928 1434]]\n"
     ]
    }
   ],
   "source": [
    "from sklearn.metrics import accuracy_score, precision_score, recall_score, f1_score\n",
    "from sklearn.metrics import roc_curve, auc, confusion_matrix, classification_report\n",
    "\n",
    "print(\"DT Accuracy Score\", accuracy_score(target_test, target_predicted_dt))\n",
    "print(classification_report(target_test, target_predicted_dt))\n",
    "print(confusion_matrix(target_test, target_predicted_dt))"
   ]
  },
  {
   "cell_type": "code",
   "execution_count": 32,
   "metadata": {},
   "outputs": [
    {
     "name": "stdout",
     "output_type": "stream",
     "text": [
      "Cross Validation Score for each model [ 0.80921053  0.83508772  0.82850877  0.82580079  0.81000439  0.81219833\n",
      "  0.82272927  0.82053532  0.81395349  0.82265145]\n"
     ]
    },
    {
     "data": {
      "text/plain": [
       "0.82006800545989889"
      ]
     },
     "execution_count": 32,
     "metadata": {},
     "output_type": "execute_result"
    }
   ],
   "source": [
    "from sklearn.model_selection import cross_val_score\n",
    "\n",
    "scores = cross_val_score(clf_dt, features_train, target_train, cv=10)\n",
    "print(\"Cross Validation Score for each model\",scores)\n",
    "scores.mean()"
   ]
  },
  {
   "cell_type": "markdown",
   "metadata": {},
   "source": [
    "#### Low precision (63%) and low recall (61%)\n",
    "#### This model is stable, but it isn't a good model."
   ]
  },
  {
   "cell_type": "code",
   "execution_count": 71,
   "metadata": {},
   "outputs": [
    {
     "name": "stdout",
     "output_type": "stream",
     "text": [
      "DecisionTreeClassifier(class_weight=None, criterion='entropy', max_depth=None,\n",
      "            max_features=None, max_leaf_nodes=None,\n",
      "            min_impurity_split=1e-07, min_samples_leaf=1,\n",
      "            min_samples_split=2, min_weight_fraction_leaf=0.0,\n",
      "            presort=False, random_state=None, splitter='best')\n"
     ]
    }
   ],
   "source": [
    "from sklearn import tree \n",
    "clf_dt = tree.DecisionTreeClassifier(criterion=\"entropy\")\n",
    "print(clf_dt)\n",
    "#Fit clf to the training data\n",
    "clf_dt = clf_dt.fit(features_train, target_train)\n",
    "#Predict clf DT model again test data\n",
    "target_predicted_dt = clf_dt.predict(features_test)"
   ]
  },
  {
   "cell_type": "code",
   "execution_count": 72,
   "metadata": {},
   "outputs": [
    {
     "name": "stdout",
     "output_type": "stream",
     "text": [
      "DT Accuracy Score 0.821578462483\n",
      "             precision    recall  f1-score   support\n",
      "\n",
      "          0       0.88      0.89      0.88      7407\n",
      "          1       0.64      0.61      0.62      2362\n",
      "\n",
      "avg / total       0.82      0.82      0.82      9769\n",
      "\n",
      "[[6584  823]\n",
      " [ 920 1442]]\n"
     ]
    }
   ],
   "source": [
    "from sklearn.metrics import accuracy_score, precision_score, recall_score, f1_score\n",
    "from sklearn.metrics import roc_curve, auc, confusion_matrix, classification_report\n",
    "\n",
    "print(\"DT Accuracy Score\", accuracy_score(target_test, target_predicted_dt))\n",
    "print(classification_report(target_test, target_predicted_dt))\n",
    "print(confusion_matrix(target_test, target_predicted_dt))"
   ]
  },
  {
   "cell_type": "code",
   "execution_count": 73,
   "metadata": {},
   "outputs": [
    {
     "name": "stdout",
     "output_type": "stream",
     "text": [
      "Cross Validation Score for each K [ 0.82236842  0.83289474  0.82368421  0.81965774  0.81834138  0.80430013\n",
      "  0.82316806  0.81219833  0.81307591  0.81738367]\n"
     ]
    },
    {
     "data": {
      "text/plain": [
       "0.8187072591619774"
      ]
     },
     "execution_count": 73,
     "metadata": {},
     "output_type": "execute_result"
    }
   ],
   "source": [
    "from sklearn.model_selection import cross_val_score\n",
    "\n",
    "scores = cross_val_score(clf_dt, features_train, target_train, cv=10)\n",
    "print(\"Cross Validation Score for each model\",scores)\n",
    "scores.mean()"
   ]
  },
  {
   "cell_type": "markdown",
   "metadata": {},
   "source": [
    "#### Similar results as default decision tree model. Conclusion the same."
   ]
  },
  {
   "cell_type": "code",
   "execution_count": 74,
   "metadata": {},
   "outputs": [
    {
     "name": "stdout",
     "output_type": "stream",
     "text": [
      "DecisionTreeClassifier(class_weight=None, criterion='gini', max_depth=None,\n",
      "            max_features=None, max_leaf_nodes=None,\n",
      "            min_impurity_split=1e-07, min_samples_leaf=1,\n",
      "            min_samples_split=2, min_weight_fraction_leaf=0.0,\n",
      "            presort=False, random_state=None, splitter='random')\n"
     ]
    }
   ],
   "source": [
    "from sklearn import tree \n",
    "clf_dt = tree.DecisionTreeClassifier(splitter=\"random\")\n",
    "print(clf_dt)\n",
    "#Fit clf to the training data\n",
    "clf_dt = clf_dt.fit(features_train, target_train)\n",
    "#Predict clf DT model again test data\n",
    "target_predicted_dt = clf_dt.predict(features_test)"
   ]
  },
  {
   "cell_type": "code",
   "execution_count": 76,
   "metadata": {},
   "outputs": [
    {
     "name": "stdout",
     "output_type": "stream",
     "text": [
      "DT Accuracy Score 0.815743678985\n",
      "             precision    recall  f1-score   support\n",
      "\n",
      "          0       0.87      0.88      0.88      7407\n",
      "          1       0.62      0.60      0.61      2362\n",
      "\n",
      "avg / total       0.81      0.82      0.81      9769\n",
      "\n",
      "[[6552  855]\n",
      " [ 945 1417]]\n"
     ]
    }
   ],
   "source": [
    "from sklearn.metrics import accuracy_score, precision_score, recall_score, f1_score\n",
    "from sklearn.metrics import roc_curve, auc, confusion_matrix, classification_report\n",
    "\n",
    "print(\"DT Accuracy Score\", accuracy_score(target_test, target_predicted_dt))\n",
    "print(classification_report(target_test, target_predicted_dt))\n",
    "print(confusion_matrix(target_test, target_predicted_dt))"
   ]
  },
  {
   "cell_type": "code",
   "execution_count": 75,
   "metadata": {},
   "outputs": [
    {
     "name": "stdout",
     "output_type": "stream",
     "text": [
      "Cross Validation Score for each K [ 0.81184211  0.81710526  0.825       0.80342255  0.81000439  0.80912681\n",
      "  0.80737165  0.82053532  0.80605529  0.81123793]\n"
     ]
    },
    {
     "data": {
      "text/plain": [
       "0.81217013122244786"
      ]
     },
     "execution_count": 75,
     "metadata": {},
     "output_type": "execute_result"
    }
   ],
   "source": [
    "from sklearn.model_selection import cross_val_score\n",
    "\n",
    "scores = cross_val_score(clf_dt, features_train, target_train, cv=10)\n",
    "print(\"Cross Validation Score for each model\",scores)\n",
    "scores.mean()"
   ]
  },
  {
   "cell_type": "markdown",
   "metadata": {},
   "source": [
    "#### Similar results as default decision tree model. Conclusion the same."
   ]
  },
  {
   "cell_type": "code",
   "execution_count": 84,
   "metadata": {},
   "outputs": [
    {
     "name": "stdout",
     "output_type": "stream",
     "text": [
      "DecisionTreeClassifier(class_weight=None, criterion='gini', max_depth=None,\n",
      "            max_features=None, max_leaf_nodes=None,\n",
      "            min_impurity_split=1e-07, min_samples_leaf=1,\n",
      "            min_samples_split=5, min_weight_fraction_leaf=0.0,\n",
      "            presort=False, random_state=None, splitter='best')\n"
     ]
    }
   ],
   "source": [
    "from sklearn import tree \n",
    "clf_dt = tree.DecisionTreeClassifier(min_samples_split=5)\n",
    "print(clf_dt)\n",
    "#Fit clf to the training data\n",
    "clf_dt = clf_dt.fit(features_train, target_train)\n",
    "#Predict clf DT model again test data\n",
    "target_predicted_dt = clf_dt.predict(features_test)"
   ]
  },
  {
   "cell_type": "code",
   "execution_count": 85,
   "metadata": {},
   "outputs": [
    {
     "name": "stdout",
     "output_type": "stream",
     "text": [
      "DT Accuracy Score 0.832224383253\n",
      "             precision    recall  f1-score   support\n",
      "\n",
      "          0       0.88      0.91      0.89      7407\n",
      "          1       0.67      0.60      0.63      2362\n",
      "\n",
      "avg / total       0.83      0.83      0.83      9769\n",
      "\n",
      "[[6712  695]\n",
      " [ 944 1418]]\n"
     ]
    }
   ],
   "source": [
    "from sklearn.metrics import accuracy_score, precision_score, recall_score, f1_score\n",
    "from sklearn.metrics import roc_curve, auc, confusion_matrix, classification_report\n",
    "\n",
    "print(\"DT Accuracy Score\", accuracy_score(target_test, target_predicted_dt))\n",
    "print(classification_report(target_test, target_predicted_dt))\n",
    "print(confusion_matrix(target_test, target_predicted_dt))"
   ]
  },
  {
   "cell_type": "code",
   "execution_count": 86,
   "metadata": {},
   "outputs": [
    {
     "name": "stdout",
     "output_type": "stream",
     "text": [
      "Cross Validation Score for each K [ 0.82412281  0.84254386  0.8372807   0.83545415  0.8214129   0.82755595\n",
      "  0.83150505  0.82272927  0.81570864  0.83274802]\n"
     ]
    },
    {
     "data": {
      "text/plain": [
       "0.82910613429820812"
      ]
     },
     "execution_count": 86,
     "metadata": {},
     "output_type": "execute_result"
    }
   ],
   "source": [
    "from sklearn.model_selection import cross_val_score\n",
    "\n",
    "scores = cross_val_score(clf_dt, features_train, target_train, cv=10)\n",
    "print(\"Cross Validation Score for each model\",scores)\n",
    "scores.mean()"
   ]
  },
  {
   "cell_type": "markdown",
   "metadata": {},
   "source": [
    "#### Precision Increased. Moderate evidence that the model may be unstable."
   ]
  },
  {
   "cell_type": "markdown",
   "metadata": {},
   "source": [
    "## K Nearest Neighbors"
   ]
  },
  {
   "cell_type": "code",
   "execution_count": 33,
   "metadata": {
    "collapsed": true
   },
   "outputs": [],
   "source": [
    "from sklearn.neighbors import KNeighborsClassifier\n",
    "neigh_kn3 = KNeighborsClassifier(n_neighbors=3)\n",
    "neigh_kn3 = neigh_kn3.fit(features_train, target_train)\n",
    "target_predicted_neigh_kn3 = neigh_kn3.predict(features_test)"
   ]
  },
  {
   "cell_type": "code",
   "execution_count": 34,
   "metadata": {},
   "outputs": [
    {
     "name": "stdout",
     "output_type": "stream",
     "text": [
      "KNN Accuracy Score 0.830381820043\n",
      "             precision    recall  f1-score   support\n",
      "\n",
      "          0       0.88      0.90      0.89      7407\n",
      "          1       0.66      0.61      0.63      2362\n",
      "\n",
      "avg / total       0.83      0.83      0.83      9769\n",
      "\n",
      "[[6671  736]\n",
      " [ 921 1441]]\n"
     ]
    }
   ],
   "source": [
    "print(\"KNN Accuracy Score\", accuracy_score(target_test, target_predicted_neigh_kn3))\n",
    "print(classification_report(target_test, target_predicted_neigh_kn3))\n",
    "print(confusion_matrix(target_test, target_predicted_neigh_kn3))"
   ]
  },
  {
   "cell_type": "code",
   "execution_count": 35,
   "metadata": {},
   "outputs": [
    {
     "name": "stdout",
     "output_type": "stream",
     "text": [
      "Cross Validation Score for each model [ 0.83464912  0.83289474  0.83289474  0.8372093   0.83106626  0.82580079\n",
      "  0.82492321  0.82492321  0.82887231  0.84021071]\n"
     ]
    },
    {
     "data": {
      "text/plain": [
       "0.83134443932052038"
      ]
     },
     "execution_count": 35,
     "metadata": {},
     "output_type": "execute_result"
    }
   ],
   "source": [
    "from sklearn.model_selection import cross_val_score\n",
    "\n",
    "scores = cross_val_score(neigh_kn3, features_train, target_train, cv=10)\n",
    "print(\"Cross Validation Score for each model\",scores)\n",
    "scores.mean()"
   ]
  },
  {
   "cell_type": "markdown",
   "metadata": {},
   "source": [
    "#### KNN results similar as default decision tree model. Conclusion the same."
   ]
  },
  {
   "cell_type": "code",
   "execution_count": 94,
   "metadata": {
    "collapsed": true
   },
   "outputs": [],
   "source": [
    "from sklearn.neighbors import KNeighborsClassifier\n",
    "neigh_kn = KNeighborsClassifier(n_neighbors=5)\n",
    "neigh_kn = neigh_kn.fit(features_train, target_train)\n",
    "target_predicted_neigh_kn = neigh_kn.predict(features_test)"
   ]
  },
  {
   "cell_type": "code",
   "execution_count": 104,
   "metadata": {},
   "outputs": [
    {
     "name": "stdout",
     "output_type": "stream",
     "text": [
      "KNN Accuracy Score 0.847374347426\n",
      "             precision    recall  f1-score   support\n",
      "\n",
      "          0       0.88      0.93      0.90      7407\n",
      "          1       0.72      0.60      0.66      2362\n",
      "\n",
      "avg / total       0.84      0.85      0.84      9769\n",
      "\n",
      "[[6856  551]\n",
      " [ 940 1422]]\n"
     ]
    }
   ],
   "source": [
    "print(\"KNN Accuracy Score\", accuracy_score(target_test, target_predicted_neigh_kn))\n",
    "print(classification_report(target_test, target_predicted_neigh_kn))\n",
    "print(confusion_matrix(target_test, target_predicted_neigh_kn))"
   ]
  },
  {
   "cell_type": "code",
   "execution_count": 96,
   "metadata": {},
   "outputs": [
    {
     "name": "stdout",
     "output_type": "stream",
     "text": [
      "Cross Validation Score for each K [ 0.83947368  0.84868421  0.84605263  0.84642387  0.83238262  0.83413778\n",
      "  0.82755595  0.83589294  0.82053532  0.85118525]\n"
     ]
    },
    {
     "data": {
      "text/plain": [
       "0.83823242539376497"
      ]
     },
     "execution_count": 96,
     "metadata": {},
     "output_type": "execute_result"
    }
   ],
   "source": [
    "from sklearn.model_selection import cross_val_score\n",
    "\n",
    "scores = cross_val_score(neigh_kn, features_train, target_train, cv=10)\n",
    "print(\"Cross Validation Score for each model\",scores)\n",
    "scores.mean()"
   ]
  },
  {
   "cell_type": "markdown",
   "metadata": {},
   "source": [
    "#### This model has a good boost in precision (72% total)."
   ]
  },
  {
   "cell_type": "code",
   "execution_count": 97,
   "metadata": {
    "collapsed": true
   },
   "outputs": [],
   "source": [
    "from sklearn.neighbors import KNeighborsClassifier\n",
    "neigh_kn = KNeighborsClassifier(n_neighbors=10)\n",
    "neigh_kn = neigh_kn.fit(features_train, target_train)\n",
    "target_predicted_neigh_kn = neigh_kn.predict(features_test)"
   ]
  },
  {
   "cell_type": "code",
   "execution_count": 105,
   "metadata": {},
   "outputs": [
    {
     "name": "stdout",
     "output_type": "stream",
     "text": [
      "KNN Accuracy Score 0.847374347426\n",
      "             precision    recall  f1-score   support\n",
      "\n",
      "          0       0.88      0.93      0.90      7407\n",
      "          1       0.72      0.60      0.66      2362\n",
      "\n",
      "avg / total       0.84      0.85      0.84      9769\n",
      "\n",
      "[[6856  551]\n",
      " [ 940 1422]]\n"
     ]
    }
   ],
   "source": [
    "print(\"KNN Accuracy Score\", accuracy_score(target_test, target_predicted_neigh_kn))\n",
    "print(classification_report(target_test, target_predicted_neigh_kn))\n",
    "print(confusion_matrix(target_test, target_predicted_neigh_kn))"
   ]
  },
  {
   "cell_type": "code",
   "execution_count": 99,
   "metadata": {},
   "outputs": [
    {
     "name": "stdout",
     "output_type": "stream",
     "text": [
      "Cross Validation Score for each K [ 0.84868421  0.85350877  0.84649123  0.85563844  0.83589294  0.83501536\n",
      "  0.84028082  0.84993418  0.83282141  0.85074627]\n"
     ]
    },
    {
     "data": {
      "text/plain": [
       "0.84490136296876384"
      ]
     },
     "execution_count": 99,
     "metadata": {},
     "output_type": "execute_result"
    }
   ],
   "source": [
    "from sklearn.model_selection import cross_val_score\n",
    "\n",
    "scores = cross_val_score(neigh_kn, features_train, target_train, cv=10)\n",
    "print(\"Cross Validation Score for each model\",scores)\n",
    "scores.mean()"
   ]
  },
  {
   "cell_type": "markdown",
   "metadata": {},
   "source": [
    "#### This model has a good boost in precision (72%). Also, more K's is better (10 vs. 5) and having more K's means each prediction has more observations (i.e. a simplier model that is less likely to overfit)."
   ]
  },
  {
   "cell_type": "code",
   "execution_count": 100,
   "metadata": {
    "collapsed": true
   },
   "outputs": [],
   "source": [
    "from sklearn.neighbors import KNeighborsClassifier\n",
    "neigh_kn = KNeighborsClassifier(n_neighbors=20)\n",
    "neigh_kn = neigh_kn.fit(features_train, target_train)\n",
    "target_predicted_neigh_kn = neigh_kn.predict(features_test)"
   ]
  },
  {
   "cell_type": "code",
   "execution_count": 106,
   "metadata": {},
   "outputs": [
    {
     "name": "stdout",
     "output_type": "stream",
     "text": [
      "KNN Accuracy Score 0.847374347426\n",
      "             precision    recall  f1-score   support\n",
      "\n",
      "          0       0.88      0.93      0.90      7407\n",
      "          1       0.72      0.60      0.66      2362\n",
      "\n",
      "avg / total       0.84      0.85      0.84      9769\n",
      "\n",
      "[[6856  551]\n",
      " [ 940 1422]]\n"
     ]
    }
   ],
   "source": [
    "print(\"KNN Accuracy Score\", accuracy_score(target_test, target_predicted_neigh_kn))\n",
    "print(classification_report(target_test, target_predicted_neigh_kn))\n",
    "print(confusion_matrix(target_test, target_predicted_neigh_kn))"
   ]
  },
  {
   "cell_type": "code",
   "execution_count": 102,
   "metadata": {},
   "outputs": [
    {
     "name": "stdout",
     "output_type": "stream",
     "text": [
      "Cross Validation Score for each K [ 0.85263158  0.85789474  0.85087719  0.86265906  0.84028082  0.83633172\n",
      "  0.84379114  0.85081176  0.83457657  0.84899034]\n"
     ]
    },
    {
     "data": {
      "text/plain": [
       "0.84788449262104582"
      ]
     },
     "execution_count": 102,
     "metadata": {},
     "output_type": "execute_result"
    }
   ],
   "source": [
    "from sklearn.model_selection import cross_val_score\n",
    "\n",
    "scores = cross_val_score(neigh_kn, features_train, target_train, cv=10)\n",
    "print(\"Cross Validation Score for each model\",scores)\n",
    "scores.mean()"
   ]
  },
  {
   "cell_type": "markdown",
   "metadata": {},
   "source": [
    "#### This model appears to preforming well. However, these cross validated scores suggests the model may be overfitting. KNN has a tendency to overfit. Therefore, another model with similar/better precision/recall would be preferred."
   ]
  },
  {
   "cell_type": "markdown",
   "metadata": {},
   "source": [
    "## Random Forest"
   ]
  },
  {
   "cell_type": "code",
   "execution_count": 107,
   "metadata": {},
   "outputs": [
    {
     "name": "stdout",
     "output_type": "stream",
     "text": [
      "RandomForestClassifier(bootstrap=True, class_weight='balanced',\n",
      "            criterion='gini', max_depth=None, max_features='auto',\n",
      "            max_leaf_nodes=None, min_impurity_split=1e-07,\n",
      "            min_samples_leaf=1, min_samples_split=2,\n",
      "            min_weight_fraction_leaf=0.0, n_estimators=500, n_jobs=-1,\n",
      "            oob_score=True, random_state=None, verbose=0, warm_start=False)\n",
      "Random Forfest Accuracy 0.84716961818\n"
     ]
    }
   ],
   "source": [
    "#Train Random Forest Model\n",
    "from sklearn.ensemble import RandomForestClassifier\n",
    "rf = RandomForestClassifier(n_estimators= 500, n_jobs=-1,oob_score=True, class_weight=\"balanced\")\n",
    "print(rf)\n",
    "rf.fit(features_train, target_train)\n",
    "# test random forest model\n",
    "target_predicted_rf = rf.predict(features_test)\n",
    "print(\"Random Forest Accuracy\", accuracy_score(target_test, target_predicted_rf))"
   ]
  },
  {
   "cell_type": "code",
   "execution_count": 108,
   "metadata": {},
   "outputs": [
    {
     "name": "stdout",
     "output_type": "stream",
     "text": [
      "Random Forest Accuracy Score 0.84716961818\n",
      "             precision    recall  f1-score   support\n",
      "\n",
      "          0       0.89      0.91      0.90      7407\n",
      "          1       0.70      0.64      0.67      2362\n",
      "\n",
      "avg / total       0.84      0.85      0.84      9769\n",
      "\n",
      "[[6756  651]\n",
      " [ 842 1520]]\n"
     ]
    }
   ],
   "source": [
    "print(\"Random Forest Accuracy Score\", accuracy_score(target_test, target_predicted_rf))\n",
    "print(classification_report(target_test, target_predicted_rf))\n",
    "print(confusion_matrix(target_test, target_predicted_rf))"
   ]
  },
  {
   "cell_type": "code",
   "execution_count": 109,
   "metadata": {},
   "outputs": [
    {
     "name": "stdout",
     "output_type": "stream",
     "text": [
      "Cross Validation Score for each Random Forest [ 0.85131579  0.84649123  0.85263158  0.85519965  0.83808688  0.84291356\n",
      "  0.83984204  0.84466871  0.83589294  0.8546971 ]\n"
     ]
    },
    {
     "data": {
      "text/plain": [
       "0.84617394727978179"
      ]
     },
     "execution_count": 109,
     "metadata": {},
     "output_type": "execute_result"
    }
   ],
   "source": [
    "from sklearn.model_selection import cross_val_score\n",
    "\n",
    "scores = cross_val_score(rf, features_train, target_train, cv=10)\n",
    "print(\"Cross Validation Score for each model\",scores)\n",
    "scores.mean()"
   ]
  },
  {
   "cell_type": "markdown",
   "metadata": {},
   "source": [
    "### The random forest has great precision (70%) and the best recall thusfar. Moderate evidence from cross-validation that this model may be overfitting."
   ]
  },
  {
   "cell_type": "code",
   "execution_count": 110,
   "metadata": {},
   "outputs": [
    {
     "name": "stdout",
     "output_type": "stream",
     "text": [
      "RandomForestClassifier(bootstrap=True, class_weight=None, criterion='entropy',\n",
      "            max_depth=None, max_features='auto', max_leaf_nodes=None,\n",
      "            min_impurity_split=1e-07, min_samples_leaf=1,\n",
      "            min_samples_split=2, min_weight_fraction_leaf=0.0,\n",
      "            n_estimators=10, n_jobs=1, oob_score=False, random_state=None,\n",
      "            verbose=0, warm_start=False)\n",
      "Random Forest Accuracy 0.847271982803\n"
     ]
    }
   ],
   "source": [
    "#Train Random Forest Model\n",
    "from sklearn.ensemble import RandomForestClassifier\n",
    "rf = RandomForestClassifier(criterion=\"entropy\")\n",
    "print(rf)\n",
    "rf.fit(features_train, target_train)\n",
    "# test random forest model\n",
    "target_predicted_rf = rf.predict(features_test)\n",
    "print(\"Random Forest Accuracy\", accuracy_score(target_test, target_predicted_rf))"
   ]
  },
  {
   "cell_type": "code",
   "execution_count": 111,
   "metadata": {},
   "outputs": [
    {
     "name": "stdout",
     "output_type": "stream",
     "text": [
      "Random Forest Accuracy Score 0.847271982803\n",
      "             precision    recall  f1-score   support\n",
      "\n",
      "          0       0.88      0.93      0.90      7407\n",
      "          1       0.72      0.60      0.66      2362\n",
      "\n",
      "avg / total       0.84      0.85      0.84      9769\n",
      "\n",
      "[[6854  553]\n",
      " [ 939 1423]]\n"
     ]
    }
   ],
   "source": [
    "print(\"Random Forest Accuracy Score\", accuracy_score(target_test, target_predicted_rf))\n",
    "print(classification_report(target_test, target_predicted_rf))\n",
    "print(confusion_matrix(target_test, target_predicted_rf))"
   ]
  },
  {
   "cell_type": "code",
   "execution_count": 112,
   "metadata": {},
   "outputs": [
    {
     "name": "stdout",
     "output_type": "stream",
     "text": [
      "Cross Validation Score for each Random Forest [ 0.84649123  0.84605263  0.85263158  0.85476086  0.84159719  0.8411584\n",
      "  0.84335235  0.84159719  0.84247477  0.8428446 ]\n"
     ]
    },
    {
     "data": {
      "text/plain": [
       "0.84529608026160274"
      ]
     },
     "execution_count": 112,
     "metadata": {},
     "output_type": "execute_result"
    }
   ],
   "source": [
    "from sklearn.model_selection import cross_val_score\n",
    "\n",
    "scores = cross_val_score(rf, features_train, target_train, cv=10)\n",
    "print(\"Cross Validation Score for each model\",scores)\n",
    "scores.mean()"
   ]
  },
  {
   "cell_type": "markdown",
   "metadata": {},
   "source": [
    "#### 2% increase in precision and 4% drop in recall (precision is more important). Cross validation shows this model likely isn't overfitting."
   ]
  },
  {
   "cell_type": "code",
   "execution_count": 113,
   "metadata": {},
   "outputs": [
    {
     "name": "stdout",
     "output_type": "stream",
     "text": [
      "RandomForestClassifier(bootstrap=True, class_weight=None, criterion='gini',\n",
      "            max_depth=None, max_features=1, max_leaf_nodes=None,\n",
      "            min_impurity_split=1e-07, min_samples_leaf=1,\n",
      "            min_samples_split=2, min_weight_fraction_leaf=0.0,\n",
      "            n_estimators=10, n_jobs=1, oob_score=False, random_state=None,\n",
      "            verbose=0, warm_start=False)\n",
      "Random Forest Accuracy 0.841232470058\n"
     ]
    }
   ],
   "source": [
    "#Train Random Forest Model\n",
    "from sklearn.ensemble import RandomForestClassifier\n",
    "rf = RandomForestClassifier(max_features=1)\n",
    "print(rf)\n",
    "rf.fit(features_train, target_train)\n",
    "# test random forest model\n",
    "target_predicted_rf = rf.predict(features_test)\n",
    "print(\"Random Forest Accuracy\", accuracy_score(target_test, target_predicted_rf))"
   ]
  },
  {
   "cell_type": "code",
   "execution_count": 114,
   "metadata": {},
   "outputs": [
    {
     "name": "stdout",
     "output_type": "stream",
     "text": [
      "Random Forest Accuracy Score 0.841232470058\n",
      "             precision    recall  f1-score   support\n",
      "\n",
      "          0       0.87      0.92      0.90      7407\n",
      "          1       0.71      0.58      0.64      2362\n",
      "\n",
      "avg / total       0.83      0.84      0.84      9769\n",
      "\n",
      "[[6841  566]\n",
      " [ 985 1377]]\n"
     ]
    }
   ],
   "source": [
    "print(\"Random Forest Accuracy Score\", accuracy_score(target_test, target_predicted_rf))\n",
    "print(classification_report(target_test, target_predicted_rf))\n",
    "print(confusion_matrix(target_test, target_predicted_rf))"
   ]
  },
  {
   "cell_type": "code",
   "execution_count": 115,
   "metadata": {},
   "outputs": [
    {
     "name": "stdout",
     "output_type": "stream",
     "text": [
      "Cross Validation Score for each Random Forest [ 0.83991228  0.83157895  0.84780702  0.84335235  0.82580079  0.83194384\n",
      "  0.82799473  0.83677051  0.82667837  0.84021071]\n"
     ]
    },
    {
     "data": {
      "text/plain": [
       "0.83520495447413501"
      ]
     },
     "execution_count": 115,
     "metadata": {},
     "output_type": "execute_result"
    }
   ],
   "source": [
    "from sklearn.model_selection import cross_val_score\n",
    "\n",
    "scores = cross_val_score(rf, features_train, target_train, cv=10)\n",
    "print(\"Cross Validation Score for each model\",scores)\n",
    "scores.mean()"
   ]
  },
  {
   "cell_type": "markdown",
   "metadata": {},
   "source": [
    "#### Drop in precision and recall."
   ]
  },
  {
   "cell_type": "code",
   "execution_count": 116,
   "metadata": {},
   "outputs": [
    {
     "name": "stdout",
     "output_type": "stream",
     "text": [
      "RandomForestClassifier(bootstrap=True, class_weight=None, criterion='gini',\n",
      "            max_depth=None, max_features=20, max_leaf_nodes=None,\n",
      "            min_impurity_split=1e-07, min_samples_leaf=1,\n",
      "            min_samples_split=2, min_weight_fraction_leaf=0.0,\n",
      "            n_estimators=10, n_jobs=1, oob_score=False, random_state=None,\n",
      "            verbose=0, warm_start=False)\n",
      "Random Forest Accuracy 0.847579076671\n"
     ]
    }
   ],
   "source": [
    "#Train Random Forest Model\n",
    "from sklearn.ensemble import RandomForestClassifier\n",
    "rf = RandomForestClassifier(max_features=20)\n",
    "print(rf)\n",
    "rf.fit(features_train, target_train)\n",
    "# test random forest model\n",
    "target_predicted_rf = rf.predict(features_test)\n",
    "print(\"Random Forest Accuracy\", accuracy_score(target_test, target_predicted_rf))"
   ]
  },
  {
   "cell_type": "code",
   "execution_count": 117,
   "metadata": {},
   "outputs": [
    {
     "name": "stdout",
     "output_type": "stream",
     "text": [
      "Random Forest Accuracy Score 0.847579076671\n",
      "             precision    recall  f1-score   support\n",
      "\n",
      "          0       0.88      0.92      0.90      7407\n",
      "          1       0.72      0.61      0.66      2362\n",
      "\n",
      "avg / total       0.84      0.85      0.84      9769\n",
      "\n",
      "[[6841  566]\n",
      " [ 923 1439]]\n"
     ]
    }
   ],
   "source": [
    "print(\"Random Forest Accuracy Score\", accuracy_score(target_test, target_predicted_rf))\n",
    "print(classification_report(target_test, target_predicted_rf))\n",
    "print(confusion_matrix(target_test, target_predicted_rf))"
   ]
  },
  {
   "cell_type": "code",
   "execution_count": 118,
   "metadata": {},
   "outputs": [
    {
     "name": "stdout",
     "output_type": "stream",
     "text": [
      "Cross Validation Score for each Random Forest [ 0.84517544  0.84605263  0.8495614   0.84817903  0.84203598  0.84028082\n",
      "  0.84159719  0.84949539  0.84159719  0.84416155]\n"
     ]
    },
    {
     "data": {
      "text/plain": [
       "0.8448136626621997"
      ]
     },
     "execution_count": 118,
     "metadata": {},
     "output_type": "execute_result"
    }
   ],
   "source": [
    "from sklearn.model_selection import cross_val_score\n",
    "\n",
    "scores = cross_val_score(rf, features_train, target_train, cv=10)\n",
    "print(\"Cross Validation Score for each model\",scores)\n",
    "scores.mean()"
   ]
  },
  {
   "cell_type": "markdown",
   "metadata": {},
   "source": [
    "#### High precision, recall and it appears to not be overfitting."
   ]
  },
  {
   "cell_type": "markdown",
   "metadata": {},
   "source": [
    "## Support Vector Machines (SVMs)"
   ]
  },
  {
   "cell_type": "code",
   "execution_count": 125,
   "metadata": {
    "collapsed": true
   },
   "outputs": [],
   "source": [
    "from sklearn.svm import LinearSVC\n",
    "clf_linSVC=LinearSVC(penalty='l2', loss='squared_hinge', dual=True, tol=0.0001, C=1.0, class_weight='balanced')\n",
    "clf_linSVC.fit(features_train, target_train)\n",
    "target_predicted_SVC=clf_linSVC.predict(features_test)"
   ]
  },
  {
   "cell_type": "code",
   "execution_count": 126,
   "metadata": {},
   "outputs": [
    {
     "name": "stdout",
     "output_type": "stream",
     "text": [
      "SVM Score 0.805916675197\n",
      "             precision    recall  f1-score   support\n",
      "\n",
      "          0       0.95      0.79      0.86      7407\n",
      "          1       0.57      0.86      0.68      2362\n",
      "\n",
      "avg / total       0.85      0.81      0.82      9769\n",
      "\n",
      "[[5851 1556]\n",
      " [ 340 2022]]\n"
     ]
    }
   ],
   "source": [
    "print(\"SVM Score\", accuracy_score(target_test, target_predicted_SVC))\n",
    "print(classification_report(target_test, target_predicted_SVC))\n",
    "print(confusion_matrix(target_test, target_predicted_SVC))"
   ]
  },
  {
   "cell_type": "code",
   "execution_count": 135,
   "metadata": {},
   "outputs": [
    {
     "name": "stdout",
     "output_type": "stream",
     "text": [
      "Cross Validation Score for each model [ 0.85701754  0.85964912  0.84517544  0.86046512  0.84598508  0.84203598\n",
      "  0.84554629  0.8530057   0.83369899  0.85689201]\n"
     ]
    },
    {
     "data": {
      "text/plain": [
       "0.84994712812221462"
      ]
     },
     "execution_count": 135,
     "metadata": {},
     "output_type": "execute_result"
    }
   ],
   "source": [
    "from sklearn.model_selection import cross_val_score\n",
    "\n",
    "scores = cross_val_score(clf_linSVC, features_train, target_train, cv=10)\n",
    "print(\"Cross Validation Score for each model\",scores)\n",
    "scores.mean()"
   ]
  },
  {
   "cell_type": "markdown",
   "metadata": {},
   "source": [
    "#### Poor precision (57%)."
   ]
  },
  {
   "cell_type": "code",
   "execution_count": 128,
   "metadata": {
    "collapsed": true
   },
   "outputs": [],
   "source": [
    "from sklearn.svm import LinearSVC\n",
    "clf_linSVC=LinearSVC()\n",
    "clf_linSVC.fit(features_train, target_train)\n",
    "target_predicted_SVC=clf_linSVC.predict(features_test)"
   ]
  },
  {
   "cell_type": "code",
   "execution_count": 129,
   "metadata": {},
   "outputs": [
    {
     "name": "stdout",
     "output_type": "stream",
     "text": [
      "SVM Score 0.851059473846\n",
      "             precision    recall  f1-score   support\n",
      "\n",
      "          0       0.88      0.93      0.90      7407\n",
      "          1       0.73      0.60      0.66      2362\n",
      "\n",
      "avg / total       0.84      0.85      0.85      9769\n",
      "\n",
      "[[6894  513]\n",
      " [ 942 1420]]\n"
     ]
    }
   ],
   "source": [
    "print(\"SVM Score\", accuracy_score(target_test, target_predicted_SVC))\n",
    "print(classification_report(target_test, target_predicted_SVC))\n",
    "print(confusion_matrix(target_test, target_predicted_SVC))"
   ]
  },
  {
   "cell_type": "code",
   "execution_count": 136,
   "metadata": {},
   "outputs": [
    {
     "name": "stdout",
     "output_type": "stream",
     "text": [
      "Cross Validation Score for each model [ 0.85657895  0.85964912  0.84517544  0.86046512  0.84598508  0.84203598\n",
      "  0.84554629  0.8530057   0.83369899  0.85689201]\n"
     ]
    },
    {
     "data": {
      "text/plain": [
       "0.84990326847309183"
      ]
     },
     "execution_count": 136,
     "metadata": {},
     "output_type": "execute_result"
    }
   ],
   "source": [
    "from sklearn.model_selection import cross_val_score\n",
    "\n",
    "scores = cross_val_score(clf_linSVC, features_train, target_train, cv=10)\n",
    "print(\"Cross Validation Score for each model\",scores)\n",
    "scores.mean()"
   ]
  },
  {
   "cell_type": "markdown",
   "metadata": {},
   "source": [
    "####  Best precision thusfar. Moderate evidence there is overfitting."
   ]
  },
  {
   "cell_type": "code",
   "execution_count": 133,
   "metadata": {
    "collapsed": true
   },
   "outputs": [],
   "source": [
    "from sklearn.svm import SVC\n",
    "#standard linear SVC\n",
    "clf_lin = SVC(kernel='linear', C=10.0,class_weight='balanced',gamma='auto')\n",
    "clf_lin.fit(features_train, target_train)\n",
    "target_predicted_SVM=clf_lin.predict(features_test)"
   ]
  },
  {
   "cell_type": "code",
   "execution_count": 134,
   "metadata": {},
   "outputs": [
    {
     "name": "stdout",
     "output_type": "stream",
     "text": [
      "SVM Score 0.793940014331\n",
      "             precision    recall  f1-score   support\n",
      "\n",
      "          0       0.95      0.77      0.85      7407\n",
      "          1       0.55      0.86      0.67      2362\n",
      "\n",
      "avg / total       0.85      0.79      0.81      9769\n",
      "\n",
      "[[5715 1692]\n",
      " [ 321 2041]]\n"
     ]
    }
   ],
   "source": [
    "print(\"SVM Score\", accuracy_score(target_test, target_predicted_SVM))\n",
    "print(classification_report(target_test, target_predicted_SVM))\n",
    "print(confusion_matrix(target_test, target_predicted_SVM))"
   ]
  },
  {
   "cell_type": "markdown",
   "metadata": {},
   "source": [
    "#### Poor precision. This model wasn't cross validated, as this model takes a lot time to run."
   ]
  },
  {
   "cell_type": "markdown",
   "metadata": {},
   "source": [
    "## Support Vector Machines (SVMs) - RBF"
   ]
  },
  {
   "cell_type": "code",
   "execution_count": 139,
   "metadata": {
    "collapsed": true
   },
   "outputs": [],
   "source": [
    "from sklearn.svm import SVC\n",
    "#standard linear SVC\n",
    "clf_rbf = SVC(kernel='rbf')\n",
    "clf_rbf.fit(features_train, target_train)\n",
    "target_predicted_rbf=clf_rbf.predict(features_test)"
   ]
  },
  {
   "cell_type": "code",
   "execution_count": 145,
   "metadata": {},
   "outputs": [
    {
     "name": "stdout",
     "output_type": "stream",
     "text": [
      "SVM Score 0.805507216706\n",
      "             precision    recall  f1-score   support\n",
      "\n",
      "          0       0.95      0.78      0.86      7407\n",
      "          1       0.56      0.87      0.68      2362\n",
      "\n",
      "avg / total       0.86      0.81      0.82      9769\n",
      "\n",
      "[[5804 1603]\n",
      " [ 297 2065]]\n"
     ]
    }
   ],
   "source": [
    "print(\"SVM Score\", accuracy_score(target_test, target_predicted_rbf))\n",
    "print(classification_report(target_test, target_predicted_rbf))\n",
    "print(confusion_matrix(target_test, target_predicted_rbf))"
   ]
  },
  {
   "cell_type": "markdown",
   "metadata": {},
   "source": [
    "#### Poor precision and great recall. However, precision is more important than recall.\n",
    "#### This model wasn't cross validated, as this model takes a lot time to run."
   ]
  },
  {
   "cell_type": "code",
   "execution_count": 143,
   "metadata": {
    "collapsed": true
   },
   "outputs": [],
   "source": [
    "from sklearn.svm import SVC\n",
    "#standard linear SVC\n",
    "clf_rbf = SVC(kernel='rbf', C=1.0, degree=3, class_weight='balanced',gamma=0.1)\n",
    "clf_rbf.fit(features_train, target_train)\n",
    "target_predicted_rbf=clf_rbf.predict(features_test)"
   ]
  },
  {
   "cell_type": "code",
   "execution_count": 146,
   "metadata": {},
   "outputs": [
    {
     "name": "stdout",
     "output_type": "stream",
     "text": [
      "SVM Score 0.805507216706\n",
      "             precision    recall  f1-score   support\n",
      "\n",
      "          0       0.95      0.78      0.86      7407\n",
      "          1       0.56      0.87      0.68      2362\n",
      "\n",
      "avg / total       0.86      0.81      0.82      9769\n",
      "\n",
      "[[5804 1603]\n",
      " [ 297 2065]]\n"
     ]
    }
   ],
   "source": [
    "print(\"SVM Score\", accuracy_score(target_test, target_predicted_rbf))\n",
    "print(classification_report(target_test, target_predicted_rbf))\n",
    "print(confusion_matrix(target_test, target_predicted_rbf))"
   ]
  },
  {
   "cell_type": "markdown",
   "metadata": {},
   "source": [
    "#### Poor precision and great recall. However, precision is more important than recall.\n",
    "#### This model wasn't cross-validated, as this model takes a lot time to run."
   ]
  },
  {
   "cell_type": "code",
   "execution_count": 147,
   "metadata": {
    "collapsed": true
   },
   "outputs": [],
   "source": [
    "from sklearn.svm import SVC\n",
    "#standard linear SVC\n",
    "clf_rbf = SVC(kernel='rbf', C=.25, degree=3, class_weight='balanced',gamma=0.1)\n",
    "clf_rbf.fit(features_train, target_train)\n",
    "target_predicted_rbf=clf_rbf.predict(features_test)"
   ]
  },
  {
   "cell_type": "code",
   "execution_count": 148,
   "metadata": {},
   "outputs": [
    {
     "name": "stdout",
     "output_type": "stream",
     "text": [
      "SVM Score 0.805200122838\n",
      "             precision    recall  f1-score   support\n",
      "\n",
      "          0       0.95      0.78      0.86      7407\n",
      "          1       0.56      0.87      0.68      2362\n",
      "\n",
      "avg / total       0.86      0.81      0.82      9769\n",
      "\n",
      "[[5803 1604]\n",
      " [ 299 2063]]\n"
     ]
    }
   ],
   "source": [
    "print(\"SVM Score\", accuracy_score(target_test, target_predicted_rbf))\n",
    "print(classification_report(target_test, target_predicted_rbf))\n",
    "print(confusion_matrix(target_test, target_predicted_rbf))"
   ]
  },
  {
   "cell_type": "markdown",
   "metadata": {},
   "source": [
    "#### Poor precision and great recall. However, precision is more important than recall.\n",
    "#### This model wasn't cross-validated, as this model takes a lot time to run."
   ]
  },
  {
   "cell_type": "markdown",
   "metadata": {},
   "source": [
    "## Artifical Neuralogical Network (ANN)"
   ]
  },
  {
   "cell_type": "code",
   "execution_count": 149,
   "metadata": {
    "collapsed": true
   },
   "outputs": [],
   "source": [
    "from sklearn.neural_network import MLPClassifier\n",
    "clf_NN = MLPClassifier(activation='relu', alpha=1e-05, batch_size='auto',\n",
    "       beta_1=0.9, beta_2=0.999, early_stopping=False,\n",
    "       epsilon=1e-08, hidden_layer_sizes=(5, 2), learning_rate='constant',\n",
    "       learning_rate_init=0.001, max_iter=200, momentum=0.9,\n",
    "       nesterovs_momentum=True, power_t=0.5, random_state=1, shuffle=True,\n",
    "       solver='lbfgs', tol=0.0001, validation_fraction=0.1, verbose=False,\n",
    "       warm_start=False)\n",
    "clf_NN.fit(features_train, target_train)\n",
    "target_predicted_NN = clf_NN.predict(features_test)"
   ]
  },
  {
   "cell_type": "code",
   "execution_count": 150,
   "metadata": {},
   "outputs": [
    {
     "name": "stdout",
     "output_type": "stream",
     "text": [
      "ANN Score 0.852083120074\n",
      "             precision    recall  f1-score   support\n",
      "\n",
      "          0       0.89      0.92      0.90      7407\n",
      "          1       0.72      0.63      0.67      2362\n",
      "\n",
      "avg / total       0.85      0.85      0.85      9769\n",
      "\n",
      "[[6835  572]\n",
      " [ 873 1489]]\n"
     ]
    }
   ],
   "source": [
    "print(\"ANN Score\", accuracy_score(target_test, target_predicted_NN))\n",
    "print(classification_report(target_test, target_predicted_NN))\n",
    "print(confusion_matrix(target_test, target_predicted_NN))"
   ]
  },
  {
   "cell_type": "code",
   "execution_count": 152,
   "metadata": {},
   "outputs": [
    {
     "name": "stdout",
     "output_type": "stream",
     "text": [
      "Cross Validation Score for each model [ 0.8627193   0.86491228  0.8504386   0.86616937  0.84686266  0.8530057\n",
      "  0.85827117  0.85388328  0.84730145  0.86172081]\n"
     ]
    },
    {
     "data": {
      "text/plain": [
       "0.85652846207250055"
      ]
     },
     "execution_count": 152,
     "metadata": {},
     "output_type": "execute_result"
    }
   ],
   "source": [
    "from sklearn.model_selection import cross_val_score\n",
    "\n",
    "scores = cross_val_score(clf_NN, features_train, target_train, cv=10)\n",
    "print(\"Cross Validation Score for each model\",scores)\n",
    "scores.mean()"
   ]
  },
  {
   "cell_type": "markdown",
   "metadata": {},
   "source": [
    "#### This model has both good percision and recall. ANN models are also very complex to explain. Therefore, a model (precision and recall combination) needs to be produced, before justifying this model over a random forest."
   ]
  },
  {
   "cell_type": "code",
   "execution_count": 182,
   "metadata": {
    "collapsed": true
   },
   "outputs": [],
   "source": [
    "from sklearn.neural_network import MLPClassifier\n",
    "clf_NN = MLPClassifier()\n",
    "clf_NN.fit(features_train, target_train)\n",
    "target_predicted_NN = clf_NN.predict(features_test)"
   ]
  },
  {
   "cell_type": "code",
   "execution_count": 183,
   "metadata": {},
   "outputs": [
    {
     "name": "stdout",
     "output_type": "stream",
     "text": [
      "ANN Score 0.856996621967\n",
      "             precision    recall  f1-score   support\n",
      "\n",
      "          0       0.89      0.93      0.91      7407\n",
      "          1       0.74      0.63      0.68      2362\n",
      "\n",
      "avg / total       0.85      0.86      0.85      9769\n",
      "\n",
      "[[6878  529]\n",
      " [ 868 1494]]\n"
     ]
    }
   ],
   "source": [
    "print(\"ANN Score\", accuracy_score(target_test, target_predicted_NN))\n",
    "print(classification_report(target_test, target_predicted_NN))\n",
    "print(confusion_matrix(target_test, target_predicted_NN))"
   ]
  },
  {
   "cell_type": "code",
   "execution_count": 184,
   "metadata": {},
   "outputs": [
    {
     "name": "stdout",
     "output_type": "stream",
     "text": [
      "Cross Validation Score for each model [ 0.85964912  0.8622807   0.85570175  0.86002633  0.85651602  0.84642387\n",
      "  0.8490566   0.85563844  0.83940325  0.8595259 ]\n"
     ]
    },
    {
     "data": {
      "text/plain": [
       "0.85442219808341213"
      ]
     },
     "execution_count": 184,
     "metadata": {},
     "output_type": "execute_result"
    }
   ],
   "source": [
    "from sklearn.model_selection import cross_val_score\n",
    "\n",
    "scores = cross_val_score(clf_NN, features_train, target_train, cv=10)\n",
    "print(\"Cross Validation Score for each model\",scores)\n",
    "scores.mean()"
   ]
  },
  {
   "cell_type": "markdown",
   "metadata": {},
   "source": [
    "#### Increased precions and decreased recall from last model (good trade off)."
   ]
  },
  {
   "cell_type": "code",
   "execution_count": 185,
   "metadata": {
    "collapsed": true
   },
   "outputs": [],
   "source": [
    "from sklearn.neural_network import MLPClassifier\n",
    "clf_NN = MLPClassifier(hidden_layer_sizes=(5,5))\n",
    "clf_NN.fit(features_train, target_train)\n",
    "target_predicted_NN = clf_NN.predict(features_test)"
   ]
  },
  {
   "cell_type": "code",
   "execution_count": 186,
   "metadata": {},
   "outputs": [
    {
     "name": "stdout",
     "output_type": "stream",
     "text": [
      "ANN Score 0.853209130924\n",
      "             precision    recall  f1-score   support\n",
      "\n",
      "          0       0.89      0.92      0.90      7407\n",
      "          1       0.72      0.65      0.68      2362\n",
      "\n",
      "avg / total       0.85      0.85      0.85      9769\n",
      "\n",
      "[[6810  597]\n",
      " [ 837 1525]]\n"
     ]
    }
   ],
   "source": [
    "print(\"ANN Score\", accuracy_score(target_test, target_predicted_NN))\n",
    "print(classification_report(target_test, target_predicted_NN))\n",
    "print(confusion_matrix(target_test, target_predicted_NN))"
   ]
  },
  {
   "cell_type": "code",
   "execution_count": 187,
   "metadata": {},
   "outputs": [
    {
     "name": "stdout",
     "output_type": "stream",
     "text": [
      "Cross Validation Score for each model [ 0.86842105  0.86184211  0.84824561  0.86222027  0.85212813  0.85037297\n",
      "  0.85212813  0.85783238  0.84554629  0.85645303]\n"
     ]
    },
    {
     "data": {
      "text/plain": [
       "0.85551899711527157"
      ]
     },
     "execution_count": 187,
     "metadata": {},
     "output_type": "execute_result"
    }
   ],
   "source": [
    "from sklearn.model_selection import cross_val_score\n",
    "\n",
    "scores = cross_val_score(clf_NN, features_train, target_train, cv=10)\n",
    "print(\"Cross Validation Score for each model\",scores)\n",
    "scores.mean()"
   ]
  },
  {
   "cell_type": "code",
   "execution_count": 188,
   "metadata": {
    "collapsed": true
   },
   "outputs": [],
   "source": [
    "from sklearn.neural_network import MLPClassifier\n",
    "clf_NN = MLPClassifier(hidden_layer_sizes=(10,10))\n",
    "clf_NN.fit(features_train, target_train)\n",
    "target_predicted_NN = clf_NN.predict(features_test)"
   ]
  },
  {
   "cell_type": "code",
   "execution_count": 189,
   "metadata": {},
   "outputs": [
    {
     "name": "stdout",
     "output_type": "stream",
     "text": [
      "ANN Score 0.852287849319\n",
      "             precision    recall  f1-score   support\n",
      "\n",
      "          0       0.89      0.92      0.90      7407\n",
      "          1       0.72      0.63      0.67      2362\n",
      "\n",
      "avg / total       0.85      0.85      0.85      9769\n",
      "\n",
      "[[6833  574]\n",
      " [ 869 1493]]\n"
     ]
    }
   ],
   "source": [
    "print(\"ANN Score\", accuracy_score(target_test, target_predicted_NN))\n",
    "print(classification_report(target_test, target_predicted_NN))\n",
    "print(confusion_matrix(target_test, target_predicted_NN))"
   ]
  },
  {
   "cell_type": "code",
   "execution_count": 190,
   "metadata": {},
   "outputs": [
    {
     "name": "stdout",
     "output_type": "stream",
     "text": [
      "Cross Validation Score for each model [ 0.86666667  0.86973684  0.85701754  0.86792453  0.85783238  0.8490566\n",
      "  0.85476086  0.85958754  0.84642387  0.85864794]\n"
     ]
    },
    {
     "data": {
      "text/plain": [
       "0.85876547726564956"
      ]
     },
     "execution_count": 190,
     "metadata": {},
     "output_type": "execute_result"
    }
   ],
   "source": [
    "from sklearn.model_selection import cross_val_score\n",
    "\n",
    "scores = cross_val_score(clf_NN, features_train, target_train, cv=10)\n",
    "print(\"Cross Validation Score for each model\",scores)\n",
    "scores.mean()"
   ]
  },
  {
   "cell_type": "code",
   "execution_count": 191,
   "metadata": {
    "collapsed": true
   },
   "outputs": [],
   "source": [
    "from sklearn.neural_network import MLPClassifier\n",
    "clf_NN = MLPClassifier(hidden_layer_sizes=(5,5,5))\n",
    "clf_NN.fit(features_train, target_train)\n",
    "target_predicted_NN = clf_NN.predict(features_test)"
   ]
  },
  {
   "cell_type": "code",
   "execution_count": 192,
   "metadata": {},
   "outputs": [
    {
     "name": "stdout",
     "output_type": "stream",
     "text": [
      "ANN Score 0.850650015355\n",
      "             precision    recall  f1-score   support\n",
      "\n",
      "          0       0.88      0.92      0.90      7407\n",
      "          1       0.72      0.62      0.67      2362\n",
      "\n",
      "avg / total       0.85      0.85      0.85      9769\n",
      "\n",
      "[[6842  565]\n",
      " [ 894 1468]]\n"
     ]
    }
   ],
   "source": [
    "print(\"ANN Score\", accuracy_score(target_test, target_predicted_NN))\n",
    "print(classification_report(target_test, target_predicted_NN))\n",
    "print(confusion_matrix(target_test, target_predicted_NN))"
   ]
  },
  {
   "cell_type": "code",
   "execution_count": 193,
   "metadata": {},
   "outputs": [
    {
     "name": "stdout",
     "output_type": "stream",
     "text": [
      "Cross Validation Score for each model [ 0.86359649  0.86403509  0.84078947  0.86485301  0.85344449  0.8530057\n",
      "  0.85168934  0.85651602  0.84379114  0.85513608]\n"
     ]
    },
    {
     "data": {
      "text/plain": [
       "0.85468568297637793"
      ]
     },
     "execution_count": 193,
     "metadata": {},
     "output_type": "execute_result"
    }
   ],
   "source": [
    "from sklearn.model_selection import cross_val_score\n",
    "\n",
    "scores = cross_val_score(clf_NN, features_train, target_train, cv=10)\n",
    "print(\"Cross Validation Score for each model\",scores)\n",
    "scores.mean()"
   ]
  },
  {
   "cell_type": "code",
   "execution_count": 194,
   "metadata": {
    "collapsed": true
   },
   "outputs": [],
   "source": [
    "from sklearn.neural_network import MLPClassifier\n",
    "clf_NN = MLPClassifier(hidden_layer_sizes=(20,20,20))\n",
    "clf_NN.fit(features_train, target_train)\n",
    "target_predicted_NN = clf_NN.predict(features_test)"
   ]
  },
  {
   "cell_type": "code",
   "execution_count": 195,
   "metadata": {},
   "outputs": [
    {
     "name": "stdout",
     "output_type": "stream",
     "text": [
      "ANN Score 0.853311495547\n",
      "             precision    recall  f1-score   support\n",
      "\n",
      "          0       0.89      0.92      0.91      7407\n",
      "          1       0.73      0.63      0.68      2362\n",
      "\n",
      "avg / total       0.85      0.85      0.85      9769\n",
      "\n",
      "[[6845  562]\n",
      " [ 871 1491]]\n"
     ]
    }
   ],
   "source": [
    "print(\"ANN Score\", accuracy_score(target_test, target_predicted_NN))\n",
    "print(classification_report(target_test, target_predicted_NN))\n",
    "print(confusion_matrix(target_test, target_predicted_NN))"
   ]
  },
  {
   "cell_type": "code",
   "execution_count": 196,
   "metadata": {},
   "outputs": [
    {
     "name": "stdout",
     "output_type": "stream",
     "text": [
      "Cross Validation Score for each model [ 0.85921053  0.86491228  0.84912281  0.86222027  0.84028082  0.85081176\n",
      "  0.85651602  0.85783238  0.84730145  0.85513608]\n"
     ]
    },
    {
     "data": {
      "text/plain": [
       "0.8543344401259434"
      ]
     },
     "execution_count": 196,
     "metadata": {},
     "output_type": "execute_result"
    }
   ],
   "source": [
    "from sklearn.model_selection import cross_val_score\n",
    "\n",
    "scores = cross_val_score(clf_NN, features_train, target_train, cv=10)\n",
    "print(\"Cross Validation Score for each model\",scores)\n",
    "scores.mean()"
   ]
  },
  {
   "cell_type": "code",
   "execution_count": 197,
   "metadata": {
    "collapsed": true
   },
   "outputs": [],
   "source": [
    "from sklearn.neural_network import MLPClassifier\n",
    "clf_NN = MLPClassifier(hidden_layer_sizes=(40,40,40))\n",
    "clf_NN.fit(features_train, target_train)\n",
    "target_predicted_NN = clf_NN.predict(features_test)"
   ]
  },
  {
   "cell_type": "code",
   "execution_count": 198,
   "metadata": {},
   "outputs": [
    {
     "name": "stdout",
     "output_type": "stream",
     "text": [
      "ANN Score 0.838673354489\n",
      "             precision    recall  f1-score   support\n",
      "\n",
      "          0       0.90      0.89      0.89      7407\n",
      "          1       0.66      0.69      0.67      2362\n",
      "\n",
      "avg / total       0.84      0.84      0.84      9769\n",
      "\n",
      "[[6560  847]\n",
      " [ 729 1633]]\n"
     ]
    }
   ],
   "source": [
    "print(\"ANN Score\", accuracy_score(target_test, target_predicted_NN))\n",
    "print(classification_report(target_test, target_predicted_NN))\n",
    "print(confusion_matrix(target_test, target_predicted_NN))"
   ]
  },
  {
   "cell_type": "code",
   "execution_count": 199,
   "metadata": {},
   "outputs": [
    {
     "name": "stdout",
     "output_type": "stream",
     "text": [
      "Cross Validation Score for each model [ 0.84780702  0.85307018  0.84517544  0.85212813  0.83808688  0.83896446\n",
      "  0.84949539  0.84642387  0.83194384  0.84811238]\n"
     ]
    },
    {
     "data": {
      "text/plain": [
       "0.84512075733864422"
      ]
     },
     "execution_count": 199,
     "metadata": {},
     "output_type": "execute_result"
    }
   ],
   "source": [
    "from sklearn.model_selection import cross_val_score\n",
    "\n",
    "scores = cross_val_score(clf_NN, features_train, target_train, cv=10)\n",
    "print(\"Cross Validation Score for each model\",scores)\n",
    "scores.mean()"
   ]
  },
  {
   "cell_type": "code",
   "execution_count": 200,
   "metadata": {
    "collapsed": true
   },
   "outputs": [],
   "source": [
    "from sklearn.neural_network import MLPClassifier\n",
    "clf_NN = MLPClassifier(hidden_layer_sizes=(40,40,40,40))\n",
    "clf_NN.fit(features_train, target_train)\n",
    "target_predicted_NN = clf_NN.predict(features_test)"
   ]
  },
  {
   "cell_type": "code",
   "execution_count": 201,
   "metadata": {},
   "outputs": [
    {
     "name": "stdout",
     "output_type": "stream",
     "text": [
      "ANN Score 0.846145971952\n",
      "             precision    recall  f1-score   support\n",
      "\n",
      "          0       0.88      0.92      0.90      7407\n",
      "          1       0.71      0.62      0.66      2362\n",
      "\n",
      "avg / total       0.84      0.85      0.84      9769\n",
      "\n",
      "[[6799  608]\n",
      " [ 895 1467]]\n"
     ]
    }
   ],
   "source": [
    "print(\"ANN Score\", accuracy_score(target_test, target_predicted_NN))\n",
    "print(classification_report(target_test, target_predicted_NN))\n",
    "print(confusion_matrix(target_test, target_predicted_NN))"
   ]
  },
  {
   "cell_type": "code",
   "execution_count": 202,
   "metadata": {},
   "outputs": [
    {
     "name": "stdout",
     "output_type": "stream",
     "text": [
      "Cross Validation Score for each model [ 0.8495614   0.84736842  0.84517544  0.84861781  0.84028082  0.83896446\n",
      "  0.84203598  0.84949539  0.83018868  0.8476734 ]\n"
     ]
    },
    {
     "data": {
      "text/plain": [
       "0.84393618113797975"
      ]
     },
     "execution_count": 202,
     "metadata": {},
     "output_type": "execute_result"
    }
   ],
   "source": [
    "from sklearn.model_selection import cross_val_score\n",
    "\n",
    "scores = cross_val_score(clf_NN, features_train, target_train, cv=10)\n",
    "print(\"Cross Validation Score for each model\",scores)\n",
    "scores.mean()"
   ]
  },
  {
   "cell_type": "code",
   "execution_count": 203,
   "metadata": {
    "collapsed": true
   },
   "outputs": [],
   "source": [
    "from sklearn.neural_network import MLPClassifier\n",
    "clf_NN = MLPClassifier(hidden_layer_sizes=(40,40,40,40,40,40,40))\n",
    "clf_NN.fit(features_train, target_train)\n",
    "target_predicted_NN = clf_NN.predict(features_test)"
   ]
  },
  {
   "cell_type": "code",
   "execution_count": 204,
   "metadata": {},
   "outputs": [
    {
     "name": "stdout",
     "output_type": "stream",
     "text": [
      "ANN Score 0.845531784215\n",
      "             precision    recall  f1-score   support\n",
      "\n",
      "          0       0.89      0.91      0.90      7407\n",
      "          1       0.69      0.65      0.67      2362\n",
      "\n",
      "avg / total       0.84      0.85      0.84      9769\n",
      "\n",
      "[[6731  676]\n",
      " [ 833 1529]]\n"
     ]
    }
   ],
   "source": [
    "print(\"ANN Score\", accuracy_score(target_test, target_predicted_NN))\n",
    "print(classification_report(target_test, target_predicted_NN))\n",
    "print(confusion_matrix(target_test, target_predicted_NN))"
   ]
  },
  {
   "cell_type": "code",
   "execution_count": 205,
   "metadata": {},
   "outputs": [
    {
     "name": "stdout",
     "output_type": "stream",
     "text": [
      "Cross Validation Score for each model [ 0.85482456  0.85482456  0.85131579  0.84379114  0.83282141  0.84291356\n",
      "  0.84774024  0.84071961  0.83062747  0.84635645]\n"
     ]
    },
    {
     "data": {
      "text/plain": [
       "0.8445934792251315"
      ]
     },
     "execution_count": 205,
     "metadata": {},
     "output_type": "execute_result"
    }
   ],
   "source": [
    "from sklearn.model_selection import cross_val_score\n",
    "\n",
    "scores = cross_val_score(clf_NN, features_train, target_train, cv=10)\n",
    "print(\"Cross Validation Score for each model\",scores)\n",
    "scores.mean()"
   ]
  },
  {
   "cell_type": "code",
   "execution_count": 206,
   "metadata": {
    "collapsed": true
   },
   "outputs": [],
   "source": [
    "from sklearn.neural_network import MLPClassifier\n",
    "clf_NN = MLPClassifier(hidden_layer_sizes=(50,50,50,50))\n",
    "clf_NN.fit(features_train, target_train)\n",
    "target_predicted_NN = clf_NN.predict(features_test)"
   ]
  },
  {
   "cell_type": "code",
   "execution_count": 207,
   "metadata": {},
   "outputs": [
    {
     "name": "stdout",
     "output_type": "stream",
     "text": [
      "ANN Score 0.8427679394\n",
      "             precision    recall  f1-score   support\n",
      "\n",
      "          0       0.89      0.91      0.90      7407\n",
      "          1       0.69      0.63      0.66      2362\n",
      "\n",
      "avg / total       0.84      0.84      0.84      9769\n",
      "\n",
      "[[6747  660]\n",
      " [ 876 1486]]\n"
     ]
    }
   ],
   "source": [
    "print(\"ANN Score\", accuracy_score(target_test, target_predicted_NN))\n",
    "print(classification_report(target_test, target_predicted_NN))\n",
    "print(confusion_matrix(target_test, target_predicted_NN))"
   ]
  },
  {
   "cell_type": "code",
   "execution_count": 208,
   "metadata": {},
   "outputs": [
    {
     "name": "stdout",
     "output_type": "stream",
     "text": [
      "Cross Validation Score for each model [ 0.84912281  0.83947368  0.84210526  0.85256692  0.83413778  0.81044318\n",
      "  0.84642387  0.84291356  0.83194384  0.8546971 ]\n"
     ]
    },
    {
     "data": {
      "text/plain": [
       "0.84038279926934334"
      ]
     },
     "execution_count": 208,
     "metadata": {},
     "output_type": "execute_result"
    }
   ],
   "source": [
    "from sklearn.model_selection import cross_val_score\n",
    "\n",
    "scores = cross_val_score(clf_NN, features_train, target_train, cv=10)\n",
    "print(\"Cross Validation Score for each model\",scores)\n",
    "scores.mean()"
   ]
  },
  {
   "cell_type": "code",
   "execution_count": 209,
   "metadata": {
    "collapsed": true
   },
   "outputs": [],
   "source": [
    "from sklearn.neural_network import MLPClassifier\n",
    "clf_NN = MLPClassifier(hidden_layer_sizes=(30,30,30))\n",
    "clf_NN.fit(features_train, target_train)\n",
    "target_predicted_NN = clf_NN.predict(features_test)"
   ]
  },
  {
   "cell_type": "code",
   "execution_count": 210,
   "metadata": {},
   "outputs": [
    {
     "name": "stdout",
     "output_type": "stream",
     "text": [
      "ANN Score 0.84972873375\n",
      "             precision    recall  f1-score   support\n",
      "\n",
      "          0       0.89      0.91      0.90      7407\n",
      "          1       0.70      0.65      0.68      2362\n",
      "\n",
      "avg / total       0.85      0.85      0.85      9769\n",
      "\n",
      "[[6759  648]\n",
      " [ 820 1542]]\n"
     ]
    }
   ],
   "source": [
    "print(\"ANN Score\", accuracy_score(target_test, target_predicted_NN))\n",
    "print(classification_report(target_test, target_predicted_NN))\n",
    "print(confusion_matrix(target_test, target_predicted_NN))"
   ]
  },
  {
   "cell_type": "code",
   "execution_count": 211,
   "metadata": {},
   "outputs": [
    {
     "name": "stdout",
     "output_type": "stream",
     "text": [
      "Cross Validation Score for each model [ 0.86008772  0.86798246  0.85219298  0.84817903  0.84422993  0.84993418\n",
      "  0.84379114  0.85651602  0.84071961  0.84942932]\n"
     ]
    },
    {
     "data": {
      "text/plain": [
       "0.85130623809416728"
      ]
     },
     "execution_count": 211,
     "metadata": {},
     "output_type": "execute_result"
    }
   ],
   "source": [
    "from sklearn.model_selection import cross_val_score\n",
    "\n",
    "scores = cross_val_score(clf_NN, features_train, target_train, cv=10)\n",
    "print(\"Cross Validation Score for each model\",scores)\n",
    "scores.mean()"
   ]
  },
  {
   "cell_type": "markdown",
   "metadata": {},
   "source": [
    "## Stochastic Gradient Descent"
   ]
  },
  {
   "cell_type": "code",
   "execution_count": 32,
   "metadata": {
    "collapsed": true
   },
   "outputs": [],
   "source": [
    "from sklearn.linear_model import SGDClassifier\n",
    "SGD = SGDClassifier()\n",
    "SGD.fit(features_train, target_train)\n",
    "target_predicted_SGD = SGD.predict(features_test)"
   ]
  },
  {
   "cell_type": "code",
   "execution_count": 35,
   "metadata": {},
   "outputs": [
    {
     "name": "stdout",
     "output_type": "stream",
     "text": [
      "Model Score 0.834783498823\n",
      "             precision    recall  f1-score   support\n",
      "\n",
      "          0       0.91      0.87      0.89      7407\n",
      "          1       0.64      0.73      0.68      2362\n",
      "\n",
      "avg / total       0.84      0.83      0.84      9769\n",
      "\n",
      "[[6442  965]\n",
      " [ 649 1713]]\n"
     ]
    }
   ],
   "source": [
    "print(\"Model Score\", accuracy_score(target_test, target_predicted_SGD))\n",
    "print(classification_report(target_test, target_predicted_SGD))\n",
    "print(confusion_matrix(target_test, target_predicted_SGD))"
   ]
  },
  {
   "cell_type": "code",
   "execution_count": 36,
   "metadata": {},
   "outputs": [
    {
     "name": "stdout",
     "output_type": "stream",
     "text": [
      "Cross Validation Score for each model [ 0.84254386  0.84517544  0.78070175  0.84949539  0.8411584   0.8293111\n",
      "  0.84335235  0.85168934  0.72926722  0.80597015]\n"
     ]
    },
    {
     "data": {
      "text/plain": [
       "0.82186650061854427"
      ]
     },
     "execution_count": 36,
     "metadata": {},
     "output_type": "execute_result"
    }
   ],
   "source": [
    "from sklearn.model_selection import cross_val_score\n",
    "\n",
    "scores = cross_val_score(SGD, features_train, target_train, cv=10)\n",
    "print(\"Cross Validation Score for each model\",scores)\n",
    "scores.mean()"
   ]
  },
  {
   "cell_type": "markdown",
   "metadata": {},
   "source": [
    "#### This model is unstable."
   ]
  },
  {
   "cell_type": "code",
   "execution_count": 40,
   "metadata": {
    "collapsed": true
   },
   "outputs": [],
   "source": [
    "from sklearn.linear_model import SGDClassifier\n",
    "SGD = SGDClassifier(loss='log')\n",
    "SGD.fit(features_train, target_train)\n",
    "target_predicted_SGD = SGD.predict(features_test)"
   ]
  },
  {
   "cell_type": "code",
   "execution_count": 41,
   "metadata": {},
   "outputs": [
    {
     "name": "stdout",
     "output_type": "stream",
     "text": [
      "Model Score 0.846760159689\n",
      "             precision    recall  f1-score   support\n",
      "\n",
      "          0       0.88      0.93      0.90      7407\n",
      "          1       0.73      0.59      0.65      2362\n",
      "\n",
      "avg / total       0.84      0.85      0.84      9769\n",
      "\n",
      "[[6885  522]\n",
      " [ 975 1387]]\n"
     ]
    }
   ],
   "source": [
    "print(\"Model Score\", accuracy_score(target_test, target_predicted_SGD))\n",
    "print(classification_report(target_test, target_predicted_SGD))\n",
    "print(confusion_matrix(target_test, target_predicted_SGD))"
   ]
  },
  {
   "cell_type": "code",
   "execution_count": 42,
   "metadata": {},
   "outputs": [
    {
     "name": "stdout",
     "output_type": "stream",
     "text": [
      "Cross Validation Score for each model [ 0.84166667  0.81096491  0.8377193   0.84335235  0.84159719  0.82623958\n",
      "  0.82448442  0.84774024  0.8332602   0.84855136]\n"
     ]
    },
    {
     "data": {
      "text/plain": [
       "0.83555762178515347"
      ]
     },
     "execution_count": 42,
     "metadata": {},
     "output_type": "execute_result"
    }
   ],
   "source": [
    "from sklearn.model_selection import cross_val_score\n",
    "\n",
    "scores = cross_val_score(SGD, features_train, target_train, cv=10)\n",
    "print(\"Cross Validation Score for each model\",scores)\n",
    "scores.mean()"
   ]
  },
  {
   "cell_type": "markdown",
   "metadata": {},
   "source": [
    "#### This model is unstable."
   ]
  },
  {
   "cell_type": "code",
   "execution_count": 45,
   "metadata": {
    "collapsed": true
   },
   "outputs": [],
   "source": [
    "from sklearn.linear_model import SGDClassifier\n",
    "SGD = SGDClassifier(penalty='elasticnet')\n",
    "SGD.fit(features_train, target_train)\n",
    "target_predicted_SGD = SGD.predict(features_test)"
   ]
  },
  {
   "cell_type": "code",
   "execution_count": 46,
   "metadata": {},
   "outputs": [
    {
     "name": "stdout",
     "output_type": "stream",
     "text": [
      "Model Score 0.843279762514\n",
      "             precision    recall  f1-score   support\n",
      "\n",
      "          0       0.86      0.95      0.90      7407\n",
      "          1       0.75      0.52      0.62      2362\n",
      "\n",
      "avg / total       0.84      0.84      0.83      9769\n",
      "\n",
      "[[7003  404]\n",
      " [1127 1235]]\n"
     ]
    }
   ],
   "source": [
    "print(\"Model Score\", accuracy_score(target_test, target_predicted_SGD))\n",
    "print(classification_report(target_test, target_predicted_SGD))\n",
    "print(confusion_matrix(target_test, target_predicted_SGD))"
   ]
  },
  {
   "cell_type": "code",
   "execution_count": 47,
   "metadata": {},
   "outputs": [
    {
     "name": "stdout",
     "output_type": "stream",
     "text": [
      "Cross Validation Score for each model [ 0.81315789  0.8495614   0.82280702  0.84466871  0.83062747  0.82887231\n",
      "  0.84071961  0.85037297  0.83413778  0.82572432]\n"
     ]
    },
    {
     "data": {
      "text/plain": [
       "0.83406494945167997"
      ]
     },
     "execution_count": 47,
     "metadata": {},
     "output_type": "execute_result"
    }
   ],
   "source": [
    "from sklearn.model_selection import cross_val_score\n",
    "\n",
    "scores = cross_val_score(SGD, features_train, target_train, cv=10)\n",
    "print(\"Cross Validation Score for each model\",scores)\n",
    "scores.mean()"
   ]
  },
  {
   "cell_type": "markdown",
   "metadata": {},
   "source": [
    "#### This model is unstable."
   ]
  },
  {
   "cell_type": "markdown",
   "metadata": {},
   "source": [
    "## Adaboost"
   ]
  },
  {
   "cell_type": "code",
   "execution_count": 51,
   "metadata": {
    "collapsed": true
   },
   "outputs": [],
   "source": [
    "from sklearn.ensemble import AdaBoostClassifier\n",
    "ABC = AdaBoostClassifier()\n",
    "ABC.fit(features_train, target_train)\n",
    "target_predicted_ABC = ABC.predict(features_test)"
   ]
  },
  {
   "cell_type": "code",
   "execution_count": 52,
   "metadata": {},
   "outputs": [
    {
     "name": "stdout",
     "output_type": "stream",
     "text": [
      "Model Score 0.859248643669\n",
      "             precision    recall  f1-score   support\n",
      "\n",
      "          0       0.89      0.93      0.91      7407\n",
      "          1       0.75      0.63      0.68      2362\n",
      "\n",
      "avg / total       0.85      0.86      0.85      9769\n",
      "\n",
      "[[6917  490]\n",
      " [ 885 1477]]\n"
     ]
    }
   ],
   "source": [
    "print(\"Model Score\", accuracy_score(target_test, target_predicted_ABC))\n",
    "print(classification_report(target_test, target_predicted_ABC))\n",
    "print(confusion_matrix(target_test, target_predicted_ABC))"
   ]
  },
  {
   "cell_type": "code",
   "execution_count": 53,
   "metadata": {},
   "outputs": [
    {
     "name": "stdout",
     "output_type": "stream",
     "text": [
      "Cross Validation Score for each model [ 0.85745614  0.86666667  0.85657895  0.86660816  0.85432207  0.85870996\n",
      "  0.85870996  0.86529179  0.8490566   0.86567164]\n"
     ]
    },
    {
     "data": {
      "text/plain": [
       "0.8599071948173499"
      ]
     },
     "execution_count": 53,
     "metadata": {},
     "output_type": "execute_result"
    }
   ],
   "source": [
    "from sklearn.model_selection import cross_val_score\n",
    "\n",
    "scores = cross_val_score(ABC, features_train, target_train, cv=10)\n",
    "print(\"Cross Validation Score for each model\",scores)\n",
    "scores.mean()"
   ]
  },
  {
   "cell_type": "markdown",
   "metadata": {},
   "source": [
    "#### This appears to be the best model thusfar."
   ]
  },
  {
   "cell_type": "code",
   "execution_count": 54,
   "metadata": {
    "collapsed": true
   },
   "outputs": [],
   "source": [
    "from sklearn.ensemble import AdaBoostClassifier\n",
    "ABC = AdaBoostClassifier(n_estimators=100)\n",
    "ABC.fit(features_train, target_train)\n",
    "target_predicted_ABC = ABC.predict(features_test)"
   ]
  },
  {
   "cell_type": "code",
   "execution_count": 55,
   "metadata": {},
   "outputs": [
    {
     "name": "stdout",
     "output_type": "stream",
     "text": [
      "Model Score 0.861603029993\n",
      "             precision    recall  f1-score   support\n",
      "\n",
      "          0       0.89      0.94      0.91      7407\n",
      "          1       0.76      0.62      0.69      2362\n",
      "\n",
      "avg / total       0.86      0.86      0.86      9769\n",
      "\n",
      "[[6941  466]\n",
      " [ 886 1476]]\n"
     ]
    }
   ],
   "source": [
    "print(\"Model Score\", accuracy_score(target_test, target_predicted_ABC))\n",
    "print(classification_report(target_test, target_predicted_ABC))\n",
    "print(confusion_matrix(target_test, target_predicted_ABC))"
   ]
  },
  {
   "cell_type": "code",
   "execution_count": 56,
   "metadata": {},
   "outputs": [
    {
     "name": "stdout",
     "output_type": "stream",
     "text": [
      "Cross Validation Score for each model [ 0.86315789  0.87763158  0.86315789  0.87143484  0.85914875  0.86441422\n",
      "  0.86441422  0.86748574  0.85519965  0.86611062]\n"
     ]
    },
    {
     "data": {
      "text/plain": [
       "0.86521554029201098"
      ]
     },
     "execution_count": 56,
     "metadata": {},
     "output_type": "execute_result"
    }
   ],
   "source": [
    "from sklearn.model_selection import cross_val_score\n",
    "\n",
    "scores = cross_val_score(ABC, features_train, target_train, cv=10)\n",
    "print(\"Cross Validation Score for each model\",scores)\n",
    "scores.mean()"
   ]
  },
  {
   "cell_type": "markdown",
   "metadata": {},
   "source": [
    "#### Even better."
   ]
  },
  {
   "cell_type": "code",
   "execution_count": 61,
   "metadata": {
    "collapsed": true
   },
   "outputs": [],
   "source": [
    "from sklearn.ensemble import AdaBoostClassifier\n",
    "ABC = AdaBoostClassifier(n_estimators=400)\n",
    "ABC.fit(features_train, target_train)\n",
    "target_predicted_ABC = ABC.predict(features_test)"
   ]
  },
  {
   "cell_type": "code",
   "execution_count": 62,
   "metadata": {},
   "outputs": [
    {
     "name": "stdout",
     "output_type": "stream",
     "text": [
      "Model Score 0.867540178114\n",
      "             precision    recall  f1-score   support\n",
      "\n",
      "          0       0.89      0.94      0.91      7407\n",
      "          1       0.77      0.65      0.70      2362\n",
      "\n",
      "avg / total       0.86      0.87      0.86      9769\n",
      "\n",
      "[[6947  460]\n",
      " [ 834 1528]]\n"
     ]
    }
   ],
   "source": [
    "print(\"Model Score\", accuracy_score(target_test, target_predicted_ABC))\n",
    "print(classification_report(target_test, target_predicted_ABC))\n",
    "print(confusion_matrix(target_test, target_predicted_ABC))"
   ]
  },
  {
   "cell_type": "code",
   "execution_count": 63,
   "metadata": {},
   "outputs": [
    {
     "name": "stdout",
     "output_type": "stream",
     "text": [
      "Cross Validation Score for each model [ 0.87324561  0.88157895  0.86710526  0.87319     0.86353664  0.86485301\n",
      "  0.86704695  0.87099605  0.86002633  0.87006146]\n"
     ]
    },
    {
     "data": {
      "text/plain": [
       "0.8691640250826177"
      ]
     },
     "execution_count": 63,
     "metadata": {},
     "output_type": "execute_result"
    }
   ],
   "source": [
    "from sklearn.model_selection import cross_val_score\n",
    "\n",
    "scores = cross_val_score(ABC, features_train, target_train, cv=10)\n",
    "print(\"Cross Validation Score for each model\",scores)\n",
    "scores.mean()"
   ]
  },
  {
   "cell_type": "markdown",
   "metadata": {},
   "source": [
    "#### Even better."
   ]
  },
  {
   "cell_type": "markdown",
   "metadata": {},
   "source": [
    "## Bagging Classifier"
   ]
  },
  {
   "cell_type": "code",
   "execution_count": 65,
   "metadata": {
    "collapsed": true
   },
   "outputs": [],
   "source": [
    "from sklearn.ensemble import BaggingClassifier\n",
    "BC = BaggingClassifier()\n",
    "BC.fit(features_train, target_train)\n",
    "target_predicted_BC = BC.predict(features_test)"
   ]
  },
  {
   "cell_type": "code",
   "execution_count": 66,
   "metadata": {},
   "outputs": [
    {
     "name": "stdout",
     "output_type": "stream",
     "text": [
      "Model Score 0.842665574777\n",
      "             precision    recall  f1-score   support\n",
      "\n",
      "          0       0.88      0.92      0.90      7407\n",
      "          1       0.70      0.61      0.65      2362\n",
      "\n",
      "avg / total       0.84      0.84      0.84      9769\n",
      "\n",
      "[[6802  605]\n",
      " [ 932 1430]]\n"
     ]
    }
   ],
   "source": [
    "print(\"Model Score\", accuracy_score(target_test, target_predicted_BC))\n",
    "print(classification_report(target_test, target_predicted_BC))\n",
    "print(confusion_matrix(target_test, target_predicted_BC))"
   ]
  },
  {
   "cell_type": "code",
   "execution_count": 67,
   "metadata": {},
   "outputs": [
    {
     "name": "stdout",
     "output_type": "stream",
     "text": [
      "Cross Validation Score for each model [ 0.84649123  0.84385965  0.85394737  0.84642387  0.84028082  0.83545415\n",
      "  0.83589294  0.84422993  0.83501536  0.84064969]\n"
     ]
    },
    {
     "data": {
      "text/plain": [
       "0.84222449984410264"
      ]
     },
     "execution_count": 67,
     "metadata": {},
     "output_type": "execute_result"
    }
   ],
   "source": [
    "from sklearn.model_selection import cross_val_score\n",
    "\n",
    "scores = cross_val_score(BC, features_train, target_train, cv=10)\n",
    "print(\"Cross Validation Score for each model\",scores)\n",
    "scores.mean()"
   ]
  },
  {
   "cell_type": "markdown",
   "metadata": {},
   "source": [
    "#### Stable. Good model."
   ]
  },
  {
   "cell_type": "code",
   "execution_count": 68,
   "metadata": {
    "collapsed": true
   },
   "outputs": [],
   "source": [
    "from sklearn.ensemble import BaggingClassifier\n",
    "BC = BaggingClassifier(n_estimators=20)\n",
    "BC.fit(features_train, target_train)\n",
    "target_predicted_BC = BC.predict(features_test)"
   ]
  },
  {
   "cell_type": "code",
   "execution_count": 69,
   "metadata": {},
   "outputs": [
    {
     "name": "stdout",
     "output_type": "stream",
     "text": [
      "Model Score 0.846043607329\n",
      "             precision    recall  f1-score   support\n",
      "\n",
      "          0       0.88      0.92      0.90      7407\n",
      "          1       0.71      0.62      0.66      2362\n",
      "\n",
      "avg / total       0.84      0.85      0.84      9769\n",
      "\n",
      "[[6790  617]\n",
      " [ 887 1475]]\n"
     ]
    }
   ],
   "source": [
    "print(\"Model Score\", accuracy_score(target_test, target_predicted_BC))\n",
    "print(classification_report(target_test, target_predicted_BC))\n",
    "print(confusion_matrix(target_test, target_predicted_BC))"
   ]
  },
  {
   "cell_type": "code",
   "execution_count": 70,
   "metadata": {},
   "outputs": [
    {
     "name": "stdout",
     "output_type": "stream",
     "text": [
      "Cross Validation Score for each model [ 0.84122807  0.84868421  0.84912281  0.84993418  0.84203598  0.83457657\n",
      "  0.83764809  0.84686266  0.83984204  0.84152766]\n"
     ]
    },
    {
     "data": {
      "text/plain": [
       "0.84314622608899159"
      ]
     },
     "execution_count": 70,
     "metadata": {},
     "output_type": "execute_result"
    }
   ],
   "source": [
    "from sklearn.model_selection import cross_val_score\n",
    "\n",
    "scores = cross_val_score(BC, features_train, target_train, cv=10)\n",
    "print(\"Cross Validation Score for each model\",scores)\n",
    "scores.mean()"
   ]
  },
  {
   "cell_type": "markdown",
   "metadata": {},
   "source": [
    "#### Slight improvement"
   ]
  },
  {
   "cell_type": "code",
   "execution_count": 71,
   "metadata": {
    "collapsed": true
   },
   "outputs": [],
   "source": [
    "from sklearn.ensemble import BaggingClassifier\n",
    "BC = BaggingClassifier(max_samples=5)\n",
    "BC.fit(features_train, target_train)\n",
    "target_predicted_BC = BC.predict(features_test)"
   ]
  },
  {
   "cell_type": "code",
   "execution_count": 72,
   "metadata": {},
   "outputs": [
    {
     "name": "stdout",
     "output_type": "stream",
     "text": [
      "Model Score 0.760773876548\n",
      "             precision    recall  f1-score   support\n",
      "\n",
      "          0       0.76      1.00      0.86      7407\n",
      "          1       0.69      0.02      0.04      2362\n",
      "\n",
      "avg / total       0.74      0.76      0.66      9769\n",
      "\n",
      "[[7386   21]\n",
      " [2316   46]]\n"
     ]
    }
   ],
   "source": [
    "print(\"Model Score\", accuracy_score(target_test, target_predicted_BC))\n",
    "print(classification_report(target_test, target_predicted_BC))\n",
    "print(confusion_matrix(target_test, target_predicted_BC))"
   ]
  },
  {
   "cell_type": "code",
   "execution_count": 73,
   "metadata": {},
   "outputs": [
    {
     "name": "stdout",
     "output_type": "stream",
     "text": [
      "Cross Validation Score for each model [ 0.77236842  0.75964912  0.79736842  0.75954366  0.77841158  0.75866608\n",
      "  0.76261518  0.79464677  0.76963581  0.75987709]\n"
     ]
    },
    {
     "data": {
      "text/plain": [
       "0.77127821373937044"
      ]
     },
     "execution_count": 73,
     "metadata": {},
     "output_type": "execute_result"
    }
   ],
   "source": [
    "from sklearn.model_selection import cross_val_score\n",
    "\n",
    "scores = cross_val_score(BC, features_train, target_train, cv=10)\n",
    "print(\"Cross Validation Score for each model\",scores)\n",
    "scores.mean()"
   ]
  },
  {
   "cell_type": "markdown",
   "metadata": {},
   "source": [
    "#### Unstable model."
   ]
  },
  {
   "cell_type": "code",
   "execution_count": 80,
   "metadata": {
    "collapsed": true
   },
   "outputs": [],
   "source": [
    "from sklearn.ensemble import BaggingClassifier\n",
    "BC = BaggingClassifier(max_samples=50)\n",
    "BC.fit(features_train, target_train)\n",
    "target_predicted_BC = BC.predict(features_test)"
   ]
  },
  {
   "cell_type": "code",
   "execution_count": 81,
   "metadata": {},
   "outputs": [
    {
     "name": "stdout",
     "output_type": "stream",
     "text": [
      "Model Score 0.824547036544\n",
      "             precision    recall  f1-score   support\n",
      "\n",
      "          0       0.84      0.96      0.89      7407\n",
      "          1       0.75      0.41      0.53      2362\n",
      "\n",
      "avg / total       0.82      0.82      0.80      9769\n",
      "\n",
      "[[7087  320]\n",
      " [1394  968]]\n"
     ]
    }
   ],
   "source": [
    "print(\"Model Score\", accuracy_score(target_test, target_predicted_BC))\n",
    "print(classification_report(target_test, target_predicted_BC))\n",
    "print(confusion_matrix(target_test, target_predicted_BC))"
   ]
  },
  {
   "cell_type": "code",
   "execution_count": 82,
   "metadata": {},
   "outputs": [
    {
     "name": "stdout",
     "output_type": "stream",
     "text": [
      "Cross Validation Score for each model [ 0.81403509  0.80745614  0.81885965  0.83677051  0.81570864  0.81834138\n",
      "  0.83194384  0.83852567  0.81965774  0.81387182]\n"
     ]
    },
    {
     "data": {
      "text/plain": [
       "0.82151704786924928"
      ]
     },
     "execution_count": 82,
     "metadata": {},
     "output_type": "execute_result"
    }
   ],
   "source": [
    "from sklearn.model_selection import cross_val_score\n",
    "\n",
    "scores = cross_val_score(BC, features_train, target_train, cv=10)\n",
    "print(\"Cross Validation Score for each model\",scores)\n",
    "scores.mean()"
   ]
  },
  {
   "cell_type": "markdown",
   "metadata": {},
   "source": [
    "#### Unstable"
   ]
  },
  {
   "cell_type": "markdown",
   "metadata": {},
   "source": [
    "## Gradient Boosting"
   ]
  },
  {
   "cell_type": "code",
   "execution_count": 86,
   "metadata": {
    "collapsed": true
   },
   "outputs": [],
   "source": [
    "from sklearn.ensemble import GradientBoostingClassifier\n",
    "GBC = GradientBoostingClassifier()\n",
    "GBC.fit(features_train, target_train)\n",
    "target_predicted_GBC = GBC.predict(features_test)"
   ]
  },
  {
   "cell_type": "code",
   "execution_count": 87,
   "metadata": {},
   "outputs": [
    {
     "name": "stdout",
     "output_type": "stream",
     "text": [
      "Model Score 0.864469239431\n",
      "             precision    recall  f1-score   support\n",
      "\n",
      "          0       0.89      0.94      0.91      7407\n",
      "          1       0.77      0.62      0.69      2362\n",
      "\n",
      "avg / total       0.86      0.86      0.86      9769\n",
      "\n",
      "[[6977  430]\n",
      " [ 894 1468]]\n"
     ]
    }
   ],
   "source": [
    "print(\"Model Score\", accuracy_score(target_test, target_predicted_GBC))\n",
    "print(classification_report(target_test, target_predicted_GBC))\n",
    "print(confusion_matrix(target_test, target_predicted_GBC))"
   ]
  },
  {
   "cell_type": "code",
   "execution_count": 88,
   "metadata": {},
   "outputs": [
    {
     "name": "stdout",
     "output_type": "stream",
     "text": [
      "Cross Validation Score for each model [ 0.87105263  0.87105263  0.86184211  0.87626152  0.86134269  0.86134269\n",
      "  0.86880211  0.87538394  0.85125055  0.8665496 ]\n"
     ]
    },
    {
     "data": {
      "text/plain": [
       "0.86648804748734087"
      ]
     },
     "execution_count": 88,
     "metadata": {},
     "output_type": "execute_result"
    }
   ],
   "source": [
    "from sklearn.model_selection import cross_val_score\n",
    "\n",
    "scores = cross_val_score(GBC, features_train, target_train, cv=10)\n",
    "print(\"Cross Validation Score for each model\",scores)\n",
    "scores.mean()"
   ]
  },
  {
   "cell_type": "markdown",
   "metadata": {},
   "source": [
    "#### Unstable model."
   ]
  },
  {
   "cell_type": "code",
   "execution_count": 89,
   "metadata": {
    "collapsed": true
   },
   "outputs": [],
   "source": [
    "from sklearn.ensemble import GradientBoostingClassifier\n",
    "GBC = GradientBoostingClassifier(loss='exponential')\n",
    "GBC.fit(features_train, target_train)\n",
    "target_predicted_GBC = GBC.predict(features_test)"
   ]
  },
  {
   "cell_type": "code",
   "execution_count": 90,
   "metadata": {},
   "outputs": [
    {
     "name": "stdout",
     "output_type": "stream",
     "text": [
      "Model Score 0.863855051694\n",
      "             precision    recall  f1-score   support\n",
      "\n",
      "          0       0.89      0.94      0.91      7407\n",
      "          1       0.77      0.62      0.69      2362\n",
      "\n",
      "avg / total       0.86      0.86      0.86      9769\n",
      "\n",
      "[[6963  444]\n",
      " [ 886 1476]]\n"
     ]
    }
   ],
   "source": [
    "print(\"Model Score\", accuracy_score(target_test, target_predicted_GBC))\n",
    "print(classification_report(target_test, target_predicted_GBC))\n",
    "print(confusion_matrix(target_test, target_predicted_GBC))"
   ]
  },
  {
   "cell_type": "code",
   "execution_count": 91,
   "metadata": {},
   "outputs": [
    {
     "name": "stdout",
     "output_type": "stream",
     "text": [
      "Cross Validation Score for each model [ 0.86973684  0.87280702  0.86315789  0.87055726  0.85870996  0.86353664\n",
      "  0.86529179  0.87670031  0.85212813  0.86567164]\n"
     ]
    },
    {
     "data": {
      "text/plain": [
       "0.86582974856899531"
      ]
     },
     "execution_count": 91,
     "metadata": {},
     "output_type": "execute_result"
    }
   ],
   "source": [
    "from sklearn.model_selection import cross_val_score\n",
    "\n",
    "scores = cross_val_score(GBC, features_train, target_train, cv=10)\n",
    "print(\"Cross Validation Score for each model\",scores)\n",
    "scores.mean()"
   ]
  },
  {
   "cell_type": "markdown",
   "metadata": {},
   "source": [
    "#### Unstable Model"
   ]
  },
  {
   "cell_type": "code",
   "execution_count": 92,
   "metadata": {
    "collapsed": true
   },
   "outputs": [],
   "source": [
    "from sklearn.ensemble import GradientBoostingClassifier\n",
    "GBC = GradientBoostingClassifier(n_estimators=200)\n",
    "GBC.fit(features_train, target_train)\n",
    "target_predicted_GBC = GBC.predict(features_test)"
   ]
  },
  {
   "cell_type": "code",
   "execution_count": 93,
   "metadata": {},
   "outputs": [
    {
     "name": "stdout",
     "output_type": "stream",
     "text": [
      "Model Score 0.867949636606\n",
      "             precision    recall  f1-score   support\n",
      "\n",
      "          0       0.89      0.94      0.92      7407\n",
      "          1       0.77      0.64      0.70      2362\n",
      "\n",
      "avg / total       0.86      0.87      0.86      9769\n",
      "\n",
      "[[6963  444]\n",
      " [ 846 1516]]\n"
     ]
    }
   ],
   "source": [
    "print(\"Model Score\", accuracy_score(target_test, target_predicted_GBC))\n",
    "print(classification_report(target_test, target_predicted_GBC))\n",
    "print(confusion_matrix(target_test, target_predicted_GBC))"
   ]
  },
  {
   "cell_type": "code",
   "execution_count": 94,
   "metadata": {},
   "outputs": [
    {
     "name": "stdout",
     "output_type": "stream",
     "text": [
      "Cross Validation Score for each model [ 0.87587719  0.87938596  0.86535088  0.87494515  0.86353664  0.86573058\n",
      "  0.87011847  0.87845546  0.86090391  0.87050044]\n"
     ]
    },
    {
     "data": {
      "text/plain": [
       "0.87048046890758646"
      ]
     },
     "execution_count": 94,
     "metadata": {},
     "output_type": "execute_result"
    }
   ],
   "source": [
    "from sklearn.model_selection import cross_val_score\n",
    "\n",
    "scores = cross_val_score(GBC, features_train, target_train, cv=10)\n",
    "print(\"Cross Validation Score for each model\",scores)\n",
    "scores.mean()"
   ]
  },
  {
   "cell_type": "markdown",
   "metadata": {},
   "source": [
    "#### This model is moderatly-stable and performs well. The cross-validation shows it is stable; however, less complex models were unstable. Therefore, there isn't enough evidence to consider this model as stable. It may be overfitting."
   ]
  },
  {
   "cell_type": "markdown",
   "metadata": {},
   "source": [
    "## Extra Trees"
   ]
  },
  {
   "cell_type": "code",
   "execution_count": 97,
   "metadata": {
    "collapsed": true
   },
   "outputs": [],
   "source": [
    "from sklearn.tree import ExtraTreeClassifier\n",
    "ETC = ExtraTreeClassifier()\n",
    "ETC.fit(features_train, target_train)\n",
    "target_predicted_ETC = ETC.predict(features_test)"
   ]
  },
  {
   "cell_type": "code",
   "execution_count": 98,
   "metadata": {},
   "outputs": [
    {
     "name": "stdout",
     "output_type": "stream",
     "text": [
      "Model Score 0.804074111987\n",
      "             precision    recall  f1-score   support\n",
      "\n",
      "          0       0.86      0.88      0.87      7407\n",
      "          1       0.60      0.56      0.58      2362\n",
      "\n",
      "avg / total       0.80      0.80      0.80      9769\n",
      "\n",
      "[[6540  867]\n",
      " [1047 1315]]\n"
     ]
    }
   ],
   "source": [
    "print(\"Model Score\", accuracy_score(target_test, target_predicted_ETC))\n",
    "print(classification_report(target_test, target_predicted_ETC))\n",
    "print(confusion_matrix(target_test, target_predicted_ETC))"
   ]
  },
  {
   "cell_type": "code",
   "execution_count": 99,
   "metadata": {},
   "outputs": [
    {
     "name": "stdout",
     "output_type": "stream",
     "text": [
      "Cross Validation Score for each model [ 0.87587719  0.87938596  0.86535088  0.87494515  0.86353664  0.86573058\n",
      "  0.87011847  0.87845546  0.86090391  0.87050044]\n"
     ]
    },
    {
     "data": {
      "text/plain": [
       "0.87048046890758646"
      ]
     },
     "execution_count": 99,
     "metadata": {},
     "output_type": "execute_result"
    }
   ],
   "source": [
    "from sklearn.model_selection import cross_val_score\n",
    "\n",
    "scores = cross_val_score(GBC, features_train, target_train, cv=10)\n",
    "print(\"Cross Validation Score for each model\",scores)\n",
    "scores.mean()"
   ]
  },
  {
   "cell_type": "markdown",
   "metadata": {},
   "source": [
    "#### This model is stable. Other models perform better."
   ]
  },
  {
   "cell_type": "code",
   "execution_count": 100,
   "metadata": {
    "collapsed": true
   },
   "outputs": [],
   "source": [
    "from sklearn.tree import ExtraTreeClassifier\n",
    "ETC = ExtraTreeClassifier(criterion=\"entropy\")\n",
    "ETC.fit(features_train, target_train)\n",
    "target_predicted_ETC = ETC.predict(features_test)"
   ]
  },
  {
   "cell_type": "code",
   "execution_count": 101,
   "metadata": {},
   "outputs": [
    {
     "name": "stdout",
     "output_type": "stream",
     "text": [
      "Model Score 0.808987613881\n",
      "             precision    recall  f1-score   support\n",
      "\n",
      "          0       0.87      0.89      0.88      7407\n",
      "          1       0.61      0.57      0.59      2362\n",
      "\n",
      "avg / total       0.80      0.81      0.81      9769\n",
      "\n",
      "[[6558  849]\n",
      " [1017 1345]]\n"
     ]
    }
   ],
   "source": [
    "print(\"Model Score\", accuracy_score(target_test, target_predicted_ETC))\n",
    "print(classification_report(target_test, target_predicted_ETC))\n",
    "print(confusion_matrix(target_test, target_predicted_ETC))"
   ]
  },
  {
   "cell_type": "code",
   "execution_count": 102,
   "metadata": {},
   "outputs": [
    {
     "name": "stdout",
     "output_type": "stream",
     "text": [
      "Cross Validation Score for each model [ 0.87587719  0.87938596  0.86535088  0.87494515  0.86353664  0.86573058\n",
      "  0.87011847  0.87845546  0.86090391  0.87050044]\n"
     ]
    },
    {
     "data": {
      "text/plain": [
       "0.87048046890758646"
      ]
     },
     "execution_count": 102,
     "metadata": {},
     "output_type": "execute_result"
    }
   ],
   "source": [
    "from sklearn.model_selection import cross_val_score\n",
    "\n",
    "scores = cross_val_score(GBC, features_train, target_train, cv=10)\n",
    "print(\"Cross Validation Score for each model\",scores)\n",
    "scores.mean()"
   ]
  },
  {
   "cell_type": "markdown",
   "metadata": {},
   "source": [
    "#### This model is stable. Other models perform better"
   ]
  },
  {
   "cell_type": "code",
   "execution_count": 103,
   "metadata": {
    "collapsed": true
   },
   "outputs": [],
   "source": [
    "from sklearn.tree import ExtraTreeClassifier\n",
    "ETC = ExtraTreeClassifier(splitter='random')\n",
    "ETC.fit(features_train, target_train)\n",
    "target_predicted_ETC = ETC.predict(features_test)"
   ]
  },
  {
   "cell_type": "code",
   "execution_count": 104,
   "metadata": {},
   "outputs": [
    {
     "name": "stdout",
     "output_type": "stream",
     "text": [
      "Model Score 0.810625447845\n",
      "             precision    recall  f1-score   support\n",
      "\n",
      "          0       0.87      0.88      0.88      7407\n",
      "          1       0.61      0.58      0.60      2362\n",
      "\n",
      "avg / total       0.81      0.81      0.81      9769\n",
      "\n",
      "[[6549  858]\n",
      " [ 992 1370]]\n"
     ]
    }
   ],
   "source": [
    "print(\"Model Score\", accuracy_score(target_test, target_predicted_ETC))\n",
    "print(classification_report(target_test, target_predicted_ETC))\n",
    "print(confusion_matrix(target_test, target_predicted_ETC))"
   ]
  },
  {
   "cell_type": "code",
   "execution_count": 105,
   "metadata": {},
   "outputs": [
    {
     "name": "stdout",
     "output_type": "stream",
     "text": [
      "Cross Validation Score for each model [ 0.87587719  0.87938596  0.86535088  0.87494515  0.86353664  0.86573058\n",
      "  0.87011847  0.87845546  0.86090391  0.87050044]\n"
     ]
    },
    {
     "data": {
      "text/plain": [
       "0.87048046890758646"
      ]
     },
     "execution_count": 105,
     "metadata": {},
     "output_type": "execute_result"
    }
   ],
   "source": [
    "from sklearn.model_selection import cross_val_score\n",
    "\n",
    "scores = cross_val_score(GBC, features_train, target_train, cv=10)\n",
    "print(\"Cross Validation Score for each model\",scores)\n",
    "scores.mean()"
   ]
  },
  {
   "cell_type": "markdown",
   "metadata": {},
   "source": [
    "#### This model is stable. Other models perform better"
   ]
  },
  {
   "cell_type": "markdown",
   "metadata": {
    "collapsed": true
   },
   "source": [
    "## Stacking (Voting)"
   ]
  },
  {
   "cell_type": "code",
   "execution_count": 36,
   "metadata": {},
   "outputs": [],
   "source": [
    "from sklearn.ensemble import VotingClassifier\n",
    "VC = VotingClassifier(estimators=\n",
    "                     [('income', clf_dt),\n",
    "                      ('income', neigh_kn3)],\n",
    "                               voting='hard')\n",
    "VC.fit(features_train, target_train)\n",
    "target_predicted_VC = VC.predict(features_test)"
   ]
  },
  {
   "cell_type": "code",
   "execution_count": 37,
   "metadata": {},
   "outputs": [
    {
     "name": "stdout",
     "output_type": "stream",
     "text": [
      "Model Score 0.836933155901\n",
      "             precision    recall  f1-score   support\n",
      "\n",
      "          0       0.85      0.95      0.90      7407\n",
      "          1       0.75      0.49      0.59      2362\n",
      "\n",
      "avg / total       0.83      0.84      0.82      9769\n",
      "\n",
      "[[7010  397]\n",
      " [1196 1166]]\n"
     ]
    }
   ],
   "source": [
    "print(\"Model Score\", accuracy_score(target_test, target_predicted_VC))\n",
    "print(classification_report(target_test, target_predicted_VC))\n",
    "print(confusion_matrix(target_test, target_predicted_VC))"
   ]
  },
  {
   "cell_type": "code",
   "execution_count": 38,
   "metadata": {},
   "outputs": [
    {
     "name": "stdout",
     "output_type": "stream",
     "text": [
      "Cross Validation Score for each model [ 0.8377193   0.84517544  0.84210526  0.83984204  0.83940325  0.83633172\n",
      "  0.83194384  0.83369899  0.83238262  0.84460053]\n"
     ]
    },
    {
     "data": {
      "text/plain": [
       "0.83832029839959543"
      ]
     },
     "execution_count": 38,
     "metadata": {},
     "output_type": "execute_result"
    }
   ],
   "source": [
    "from sklearn.model_selection import cross_val_score\n",
    "\n",
    "scores = cross_val_score(VC, features_train, target_train, cv=10)\n",
    "print(\"Cross Validation Score for each model\",scores)\n",
    "scores.mean()"
   ]
  },
  {
   "cell_type": "markdown",
   "metadata": {},
   "source": [
    "#### This model has high percision and low recall."
   ]
  },
  {
   "cell_type": "code",
   "execution_count": 39,
   "metadata": {
    "collapsed": true
   },
   "outputs": [],
   "source": [
    "from sklearn.ensemble import VotingClassifier\n",
    "VC = VotingClassifier(estimators=\n",
    "                     [('income', clf_dt),\n",
    "                      ('income', neigh_kn3)],\n",
    "                               voting='soft')\n",
    "VC.fit(features_train, target_train)\n",
    "target_predicted_VC = VC.predict(features_test)"
   ]
  },
  {
   "cell_type": "code",
   "execution_count": 40,
   "metadata": {},
   "outputs": [
    {
     "name": "stdout",
     "output_type": "stream",
     "text": [
      "Model Score 0.831712560139\n",
      "             precision    recall  f1-score   support\n",
      "\n",
      "          0       0.88      0.91      0.89      7407\n",
      "          1       0.67      0.60      0.63      2362\n",
      "\n",
      "avg / total       0.83      0.83      0.83      9769\n",
      "\n",
      "[[6717  690]\n",
      " [ 954 1408]]\n"
     ]
    }
   ],
   "source": [
    "print(\"Model Score\", accuracy_score(target_test, target_predicted_VC))\n",
    "print(classification_report(target_test, target_predicted_VC))\n",
    "print(confusion_matrix(target_test, target_predicted_VC))"
   ]
  },
  {
   "cell_type": "code",
   "execution_count": 41,
   "metadata": {},
   "outputs": [
    {
     "name": "stdout",
     "output_type": "stream",
     "text": [
      "Cross Validation Score for each model [ 0.82894737  0.84035088  0.83815789  0.83589294  0.82623958  0.82404563\n",
      "  0.83194384  0.83457657  0.82492321  0.83494293]\n"
     ]
    },
    {
     "data": {
      "text/plain": [
       "0.83200208366792661"
      ]
     },
     "execution_count": 41,
     "metadata": {},
     "output_type": "execute_result"
    }
   ],
   "source": [
    "from sklearn.model_selection import cross_val_score\n",
    "\n",
    "scores = cross_val_score(VC, features_train, target_train, cv=10)\n",
    "print(\"Cross Validation Score for each model\",scores)\n",
    "scores.mean()"
   ]
  },
  {
   "cell_type": "markdown",
   "metadata": {},
   "source": [
    "#### The precision is lowered."
   ]
  },
  {
   "cell_type": "code",
   "execution_count": 42,
   "metadata": {},
   "outputs": [
    {
     "name": "stderr",
     "output_type": "stream",
     "text": [
      "C:\\Users\\corylowe\\Anaconda3\\lib\\site-packages\\sklearn\\externals\\joblib\\pool.py:438: UserWarning: Failed to clean temporary folder: C:\\Users\\corylowe\\AppData\\Local\\Temp\\joblib_memmaping_pool_13648_2042884324432\n",
      "  warnings.warn(\"Failed to clean temporary folder: %s\" % folder_path)\n"
     ]
    }
   ],
   "source": [
    "from sklearn.ensemble import VotingClassifier\n",
    "VC = VotingClassifier(estimators=\n",
    "                     [('income', clf_dt),\n",
    "                      ('income', neigh_kn3)],\n",
    "                               voting='soft',\n",
    "                               n_jobs=3)\n",
    "VC.fit(features_train, target_train)\n",
    "target_predicted_VC = VC.predict(features_test)"
   ]
  },
  {
   "cell_type": "code",
   "execution_count": 43,
   "metadata": {},
   "outputs": [
    {
     "name": "stdout",
     "output_type": "stream",
     "text": [
      "Model Score 0.83099600778\n",
      "             precision    recall  f1-score   support\n",
      "\n",
      "          0       0.88      0.91      0.89      7407\n",
      "          1       0.67      0.59      0.63      2362\n",
      "\n",
      "avg / total       0.83      0.83      0.83      9769\n",
      "\n",
      "[[6713  694]\n",
      " [ 957 1405]]\n"
     ]
    }
   ],
   "source": [
    "print(\"Model Score\", accuracy_score(target_test, target_predicted_VC))\n",
    "print(classification_report(target_test, target_predicted_VC))\n",
    "print(confusion_matrix(target_test, target_predicted_VC))"
   ]
  },
  {
   "cell_type": "code",
   "execution_count": 44,
   "metadata": {},
   "outputs": [
    {
     "name": "stderr",
     "output_type": "stream",
     "text": [
      "C:\\Users\\corylowe\\Anaconda3\\lib\\site-packages\\sklearn\\externals\\joblib\\pool.py:438: UserWarning: Failed to clean temporary folder: C:\\Users\\corylowe\\AppData\\Local\\Temp\\joblib_memmaping_pool_13648_2042781473480\n",
      "  warnings.warn(\"Failed to clean temporary folder: %s\" % folder_path)\n",
      "C:\\Users\\corylowe\\Anaconda3\\lib\\site-packages\\sklearn\\externals\\joblib\\pool.py:438: UserWarning: Failed to clean temporary folder: C:\\Users\\corylowe\\AppData\\Local\\Temp\\joblib_memmaping_pool_13648_2042884324320\n",
      "  warnings.warn(\"Failed to clean temporary folder: %s\" % folder_path)\n",
      "C:\\Users\\corylowe\\Anaconda3\\lib\\site-packages\\sklearn\\externals\\joblib\\pool.py:438: UserWarning: Failed to clean temporary folder: C:\\Users\\corylowe\\AppData\\Local\\Temp\\joblib_memmaping_pool_13648_2042839305856\n",
      "  warnings.warn(\"Failed to clean temporary folder: %s\" % folder_path)\n",
      "C:\\Users\\corylowe\\Anaconda3\\lib\\site-packages\\sklearn\\externals\\joblib\\pool.py:438: UserWarning: Failed to clean temporary folder: C:\\Users\\corylowe\\AppData\\Local\\Temp\\joblib_memmaping_pool_13648_2042744957920\n",
      "  warnings.warn(\"Failed to clean temporary folder: %s\" % folder_path)\n",
      "C:\\Users\\corylowe\\Anaconda3\\lib\\site-packages\\sklearn\\externals\\joblib\\pool.py:438: UserWarning: Failed to clean temporary folder: C:\\Users\\corylowe\\AppData\\Local\\Temp\\joblib_memmaping_pool_13648_2042884250704\n",
      "  warnings.warn(\"Failed to clean temporary folder: %s\" % folder_path)\n",
      "C:\\Users\\corylowe\\Anaconda3\\lib\\site-packages\\sklearn\\externals\\joblib\\pool.py:438: UserWarning: Failed to clean temporary folder: C:\\Users\\corylowe\\AppData\\Local\\Temp\\joblib_memmaping_pool_13648_2042846525592\n",
      "  warnings.warn(\"Failed to clean temporary folder: %s\" % folder_path)\n",
      "C:\\Users\\corylowe\\Anaconda3\\lib\\site-packages\\sklearn\\externals\\joblib\\pool.py:438: UserWarning: Failed to clean temporary folder: C:\\Users\\corylowe\\AppData\\Local\\Temp\\joblib_memmaping_pool_13648_2042839305016\n",
      "  warnings.warn(\"Failed to clean temporary folder: %s\" % folder_path)\n",
      "C:\\Users\\corylowe\\Anaconda3\\lib\\site-packages\\sklearn\\externals\\joblib\\pool.py:438: UserWarning: Failed to clean temporary folder: C:\\Users\\corylowe\\AppData\\Local\\Temp\\joblib_memmaping_pool_13648_2042839305856\n",
      "  warnings.warn(\"Failed to clean temporary folder: %s\" % folder_path)\n",
      "C:\\Users\\corylowe\\Anaconda3\\lib\\site-packages\\sklearn\\externals\\joblib\\pool.py:438: UserWarning: Failed to clean temporary folder: C:\\Users\\corylowe\\AppData\\Local\\Temp\\joblib_memmaping_pool_13648_2042846127888\n",
      "  warnings.warn(\"Failed to clean temporary folder: %s\" % folder_path)\n",
      "C:\\Users\\corylowe\\Anaconda3\\lib\\site-packages\\sklearn\\externals\\joblib\\pool.py:438: UserWarning: Failed to clean temporary folder: C:\\Users\\corylowe\\AppData\\Local\\Temp\\joblib_memmaping_pool_13648_2042846664968\n",
      "  warnings.warn(\"Failed to clean temporary folder: %s\" % folder_path)\n"
     ]
    },
    {
     "name": "stdout",
     "output_type": "stream",
     "text": [
      "Cross Validation Score for each model [ 0.82807018  0.83859649  0.83464912  0.83369899  0.82580079  0.82492321\n",
      "  0.82843352  0.83150505  0.82448442  0.83669886]\n"
     ]
    },
    {
     "data": {
      "text/plain": [
       "0.83068606332027972"
      ]
     },
     "execution_count": 44,
     "metadata": {},
     "output_type": "execute_result"
    }
   ],
   "source": [
    "from sklearn.model_selection import cross_val_score\n",
    "\n",
    "scores = cross_val_score(VC, features_train, target_train, cv=10)\n",
    "print(\"Cross Validation Score for each model\",scores)\n",
    "scores.mean()"
   ]
  },
  {
   "cell_type": "markdown",
   "metadata": {},
   "source": [
    "#### Low precision"
   ]
  }
 ],
 "metadata": {
  "kernelspec": {
   "display_name": "Python 3",
   "language": "python",
   "name": "python3"
  },
  "language_info": {
   "codemirror_mode": {
    "name": "ipython",
    "version": 3
   },
   "file_extension": ".py",
   "mimetype": "text/x-python",
   "name": "python",
   "nbconvert_exporter": "python",
   "pygments_lexer": "ipython3",
   "version": "3.6.1"
  }
 },
 "nbformat": 4,
 "nbformat_minor": 2
}
